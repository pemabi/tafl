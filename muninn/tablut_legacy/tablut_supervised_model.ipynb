{
 "cells": [
  {
   "cell_type": "markdown",
   "metadata": {},
   "source": [
    "# Train Supervised Model for Tablut\n",
    "----\n",
    "__Process Data:__\n",
    "1. Load game data into pandas df\\\n",
    "1a. Add game index\\\n",
    "1b. Add move index\\\n",
    "1c. Inspect and clean data\\\n",
    "1d. Remove timeout games\n",
    "2. Build function to convert move notation\n",
    "3. Build functions to generate input tensors. For each position in game:\\\n",
    "3a. Convert boardstate to bitvector\\\n",
    "3b. Convert move to numeric notation (policy head input)\\\n",
    "3c. Record win/loss for white as 1/-1 (value head input)\n",
    "4. Build logic to adapt these for rotated/mirrored positions\n",
    "5. Iterate through df and generate input\n",
    "\n",
    "\n",
    "\n",
    "__Build Model:__\n",
    "1. Use the basic model from NN for Chess that I've adapted to fit game requirements\n",
    "2. Train model"
   ]
  },
  {
   "cell_type": "markdown",
   "metadata": {},
   "source": [
    "## Imports"
   ]
  },
  {
   "cell_type": "code",
   "execution_count": 13,
   "metadata": {},
   "outputs": [],
   "source": [
    "import pandas as pd\n",
    "import numpy as np\n",
    "import keras\n",
    "from keras.callbacks import EarlyStopping\n",
    "from game import generate_output_index, Board\n",
    "from tqdm.notebook import tqdm\n",
    "import csv"
   ]
  },
  {
   "cell_type": "markdown",
   "metadata": {},
   "source": [
    "## Load and Preprocess Data"
   ]
  },
  {
   "cell_type": "markdown",
   "metadata": {},
   "source": [
    "Load data from csv"
   ]
  },
  {
   "cell_type": "code",
   "execution_count": 2,
   "metadata": {},
   "outputs": [
    {
     "data": {
      "text/html": [
       "<div>\n",
       "<style scoped>\n",
       "    .dataframe tbody tr th:only-of-type {\n",
       "        vertical-align: middle;\n",
       "    }\n",
       "\n",
       "    .dataframe tbody tr th {\n",
       "        vertical-align: top;\n",
       "    }\n",
       "\n",
       "    .dataframe thead th {\n",
       "        text-align: right;\n",
       "    }\n",
       "</style>\n",
       "<table border=\"1\" class=\"dataframe\">\n",
       "  <thead>\n",
       "    <tr style=\"text-align: right;\">\n",
       "      <th></th>\n",
       "      <th>White_Player</th>\n",
       "      <th>Black_Player</th>\n",
       "      <th>Winner</th>\n",
       "      <th>Win_Type</th>\n",
       "      <th>Move</th>\n",
       "      <th>spil</th>\n",
       "    </tr>\n",
       "  </thead>\n",
       "  <tbody>\n",
       "    <tr>\n",
       "      <th>0</th>\n",
       "      <td>Hagbard</td>\n",
       "      <td>Thomas</td>\n",
       "      <td>White</td>\n",
       "      <td>full</td>\n",
       "      <td>c5-c8</td>\n",
       "      <td>49</td>\n",
       "    </tr>\n",
       "    <tr>\n",
       "      <th>1</th>\n",
       "      <td>Hagbard</td>\n",
       "      <td>Thomas</td>\n",
       "      <td>White</td>\n",
       "      <td>full</td>\n",
       "      <td>b5-c5</td>\n",
       "      <td>49</td>\n",
       "    </tr>\n",
       "    <tr>\n",
       "      <th>2</th>\n",
       "      <td>Hagbard</td>\n",
       "      <td>Thomas</td>\n",
       "      <td>White</td>\n",
       "      <td>full</td>\n",
       "      <td>e7-a7</td>\n",
       "      <td>49</td>\n",
       "    </tr>\n",
       "  </tbody>\n",
       "</table>\n",
       "</div>"
      ],
      "text/plain": [
       "  White_Player Black_Player Winner Win_Type   Move  spil\n",
       "0      Hagbard       Thomas  White     full  c5-c8    49\n",
       "1      Hagbard       Thomas  White     full  b5-c5    49\n",
       "2      Hagbard       Thomas  White     full  e7-a7    49"
      ]
     },
     "execution_count": 2,
     "metadata": {},
     "output_type": "execute_result"
    }
   ],
   "source": [
    "file_path = '../../data/tablut_games.csv'\n",
    "column_names = ['White_Player', 'Black_Player', 'Winner', 'Win_Type', 'Move', 'spil']\n",
    "df = pd.read_csv(file_path, names=column_names)\n",
    "df.head(3)"
   ]
  },
  {
   "cell_type": "markdown",
   "metadata": {},
   "source": [
    "Add a game index"
   ]
  },
  {
   "cell_type": "code",
   "execution_count": 3,
   "metadata": {},
   "outputs": [
    {
     "data": {
      "text/plain": [
       "4048"
      ]
     },
     "execution_count": 3,
     "metadata": {},
     "output_type": "execute_result"
    }
   ],
   "source": [
    "current_game_id = 0\n",
    "previous_white = df.at[0, 'White_Player']\n",
    "previous_black = df.at[0, 'Black_Player']\n",
    "previous_spil = df.at[0, 'spil']\n",
    "\n",
    "def is_new_game(row):\n",
    "    return (row['White_Player'] != previous_white) or (row['Black_Player'] != previous_black)\\\n",
    "        or (row['spil'] != previous_spil)\n",
    "\n",
    "# Iterate over rows and add game ID\n",
    "game_id_list = []\n",
    "for index, row in df.iterrows():\n",
    "    if is_new_game(row):\n",
    "        current_game_id += 1\n",
    "        previous_white = row['White_Player']\n",
    "        previous_black = row['Black_Player']\n",
    "        previous_spil = row['spil']\n",
    "    game_id_list.append(current_game_id)\n",
    "\n",
    "# Add game ID column to the DataFrame\n",
    "df['Game_ID'] = game_id_list\n",
    "\n",
    "# Check for correct number of games\n",
    "df['Game_ID'].max()"
   ]
  },
  {
   "cell_type": "markdown",
   "metadata": {},
   "source": [
    "Add a move index to record move order for each game"
   ]
  },
  {
   "cell_type": "code",
   "execution_count": 4,
   "metadata": {},
   "outputs": [],
   "source": [
    "current_game_id = 0\n",
    "move_number = 0\n",
    "\n",
    "# Iterate over rows and add move number\n",
    "move_id_list = []\n",
    "for index, row in df.iterrows():\n",
    "    if current_game_id == row['Game_ID']:\n",
    "        move_id_list.append(move_number)\n",
    "        move_number += 1\n",
    "    else:\n",
    "        move_number = 0\n",
    "        move_id_list.append(move_number)\n",
    "        move_number += 1\n",
    "        current_game_id = row['Game_ID']\n",
    "\n",
    "df['Move_Number'] = move_id_list"
   ]
  },
  {
   "cell_type": "code",
   "execution_count": 5,
   "metadata": {},
   "outputs": [
    {
     "data": {
      "text/plain": [
       "Win_Type\n",
       "full        65748\n",
       "resigned    57979\n",
       "timeout      4866\n",
       "e6e9           45\n",
       "g7g4           28\n",
       "d2d1           27\n",
       "h3h1           25\n",
       "f9f8           24\n",
       "c8a8           21\n",
       "d5d9           11\n",
       "Name: count, dtype: int64"
      ]
     },
     "execution_count": 5,
     "metadata": {},
     "output_type": "execute_result"
    }
   ],
   "source": [
    "df['Win_Type'].value_counts()"
   ]
  },
  {
   "cell_type": "markdown",
   "metadata": {},
   "source": [
    "We can see there a few games here that have different notation (no '-' between moves). Let's change the win type to full and convert these moves to proper notation now."
   ]
  },
  {
   "cell_type": "code",
   "execution_count": 6,
   "metadata": {},
   "outputs": [
    {
     "data": {
      "text/plain": [
       "Win_Type\n",
       "full        65929\n",
       "resigned    57979\n",
       "timeout      4866\n",
       "Name: count, dtype: int64"
      ]
     },
     "execution_count": 6,
     "metadata": {},
     "output_type": "execute_result"
    }
   ],
   "source": [
    "def update_win_type(win_type):\n",
    "    if win_type != 'resigned' and win_type != 'timeout':\n",
    "        return 'full'\n",
    "    else:\n",
    "        return win_type\n",
    "\n",
    "# Apply the function to update Win_Type column\n",
    "df['Win_Type'] = df['Win_Type'].apply(update_win_type)\n",
    "df['Win_Type'].value_counts()"
   ]
  },
  {
   "cell_type": "code",
   "execution_count": 7,
   "metadata": {},
   "outputs": [
    {
     "data": {
      "text/plain": [
       "0"
      ]
     },
     "execution_count": 7,
     "metadata": {},
     "output_type": "execute_result"
    }
   ],
   "source": [
    "df['Move'] = df['Move'].str.replace(r'(\\D)(\\d)(\\D)(\\d)', r'\\1\\2-\\3\\4', regex=True)\n",
    "len(df[df['Move'].str.len() == 4])"
   ]
  },
  {
   "cell_type": "markdown",
   "metadata": {},
   "source": [
    "Drop timeout wins"
   ]
  },
  {
   "cell_type": "code",
   "execution_count": 8,
   "metadata": {},
   "outputs": [],
   "source": [
    "df = df[df['Win_Type'] != 'timeout']"
   ]
  },
  {
   "cell_type": "markdown",
   "metadata": {},
   "source": [
    "Noticed now that there are two separate game modes here, one where white starts and one where black starts. It seems that white going first is now the accepted version as it leads to a more equal game. Let's add another column indicating which rules the game is being played with. I think I'll train on both of them - interesting stuff. There are many many more games based on the 'previous' rules. I'm masking illegal moves anyway, so I don't see a reason that the 'best' starting move trained on the new rules should be too different than the one trained one all games with the illegal ones masked out. After three moves, the positions could theoretically be indistinguishable."
   ]
  },
  {
   "cell_type": "code",
   "execution_count": 9,
   "metadata": {},
   "outputs": [],
   "source": [
    "black_starts = ['a4', 'a6', 'b5', 'd1', 'd9', 'e2', 'e8', 'f1', 'f9', 'h5', 'i4', 'i6']\n",
    "white_starts = ['c5', 'd5', 'e3', 'e4', 'e6', 'e7', 'f5', 'g5']\n",
    "\n",
    "rules_list = []\n",
    "variation = 'other'\n",
    "for index, row in df.iterrows():\n",
    "    if row['Move_Number'] == 0:\n",
    "        if row['Move'][:2] in black_starts:\n",
    "            variation = 'black_starts'\n",
    "        elif row['Move'][:2] in white_starts:\n",
    "            variation = 'white_starts'\n",
    "        else:\n",
    "            variation = 'other'\n",
    "        rules_list.append(variation)\n",
    "    else:\n",
    "        rules_list.append(variation)\n",
    "\n",
    "df['First_Player'] = rules_list"
   ]
  },
  {
   "cell_type": "code",
   "execution_count": 10,
   "metadata": {},
   "outputs": [
    {
     "data": {
      "text/plain": [
       "First_Player\n",
       "black_starts    101035\n",
       "white_starts     22873\n",
       "Name: count, dtype: int64"
      ]
     },
     "execution_count": 10,
     "metadata": {},
     "output_type": "execute_result"
    }
   ],
   "source": [
    "df.First_Player.value_counts()"
   ]
  },
  {
   "cell_type": "code",
   "execution_count": 11,
   "metadata": {},
   "outputs": [],
   "source": [
    "df = df[df['First_Player'] == 'white_starts']"
   ]
  },
  {
   "cell_type": "markdown",
   "metadata": {},
   "source": [
    "Also noticed that there is a game with a inaccurate record. Dropping it from the dataframe."
   ]
  },
  {
   "cell_type": "code",
   "execution_count": 12,
   "metadata": {},
   "outputs": [],
   "source": [
    "df = df[df['Game_ID'] != 95]"
   ]
  },
  {
   "cell_type": "code",
   "execution_count": 15,
   "metadata": {},
   "outputs": [
    {
     "data": {
      "text/html": [
       "<div>\n",
       "<style scoped>\n",
       "    .dataframe tbody tr th:only-of-type {\n",
       "        vertical-align: middle;\n",
       "    }\n",
       "\n",
       "    .dataframe tbody tr th {\n",
       "        vertical-align: top;\n",
       "    }\n",
       "\n",
       "    .dataframe thead th {\n",
       "        text-align: right;\n",
       "    }\n",
       "</style>\n",
       "<table border=\"1\" class=\"dataframe\">\n",
       "  <thead>\n",
       "    <tr style=\"text-align: right;\">\n",
       "      <th></th>\n",
       "      <th>White_Player</th>\n",
       "      <th>Black_Player</th>\n",
       "      <th>Winner</th>\n",
       "      <th>Win_Type</th>\n",
       "      <th>Move</th>\n",
       "      <th>spil</th>\n",
       "      <th>Game_ID</th>\n",
       "      <th>Move_Number</th>\n",
       "      <th>First_Player</th>\n",
       "    </tr>\n",
       "  </thead>\n",
       "  <tbody>\n",
       "    <tr>\n",
       "      <th>0</th>\n",
       "      <td>Hagbard</td>\n",
       "      <td>Thomas</td>\n",
       "      <td>White</td>\n",
       "      <td>full</td>\n",
       "      <td>c5-c8</td>\n",
       "      <td>49</td>\n",
       "      <td>0</td>\n",
       "      <td>0</td>\n",
       "      <td>white_starts</td>\n",
       "    </tr>\n",
       "    <tr>\n",
       "      <th>1</th>\n",
       "      <td>Hagbard</td>\n",
       "      <td>Thomas</td>\n",
       "      <td>White</td>\n",
       "      <td>full</td>\n",
       "      <td>b5-c5</td>\n",
       "      <td>49</td>\n",
       "      <td>0</td>\n",
       "      <td>1</td>\n",
       "      <td>white_starts</td>\n",
       "    </tr>\n",
       "    <tr>\n",
       "      <th>2</th>\n",
       "      <td>Hagbard</td>\n",
       "      <td>Thomas</td>\n",
       "      <td>White</td>\n",
       "      <td>full</td>\n",
       "      <td>e7-a7</td>\n",
       "      <td>49</td>\n",
       "      <td>0</td>\n",
       "      <td>2</td>\n",
       "      <td>white_starts</td>\n",
       "    </tr>\n",
       "    <tr>\n",
       "      <th>3</th>\n",
       "      <td>Hagbard</td>\n",
       "      <td>Thomas</td>\n",
       "      <td>White</td>\n",
       "      <td>full</td>\n",
       "      <td>i6-g6</td>\n",
       "      <td>49</td>\n",
       "      <td>0</td>\n",
       "      <td>3</td>\n",
       "      <td>white_starts</td>\n",
       "    </tr>\n",
       "    <tr>\n",
       "      <th>4</th>\n",
       "      <td>Hagbard</td>\n",
       "      <td>Thomas</td>\n",
       "      <td>White</td>\n",
       "      <td>full</td>\n",
       "      <td>a7-g7</td>\n",
       "      <td>49</td>\n",
       "      <td>0</td>\n",
       "      <td>4</td>\n",
       "      <td>white_starts</td>\n",
       "    </tr>\n",
       "  </tbody>\n",
       "</table>\n",
       "</div>"
      ],
      "text/plain": [
       "  White_Player Black_Player Winner Win_Type   Move  spil  Game_ID  \\\n",
       "0      Hagbard       Thomas  White     full  c5-c8    49        0   \n",
       "1      Hagbard       Thomas  White     full  b5-c5    49        0   \n",
       "2      Hagbard       Thomas  White     full  e7-a7    49        0   \n",
       "3      Hagbard       Thomas  White     full  i6-g6    49        0   \n",
       "4      Hagbard       Thomas  White     full  a7-g7    49        0   \n",
       "\n",
       "   Move_Number  First_Player  \n",
       "0            0  white_starts  \n",
       "1            1  white_starts  \n",
       "2            2  white_starts  \n",
       "3            3  white_starts  \n",
       "4            4  white_starts  "
      ]
     },
     "execution_count": 15,
     "metadata": {},
     "output_type": "execute_result"
    }
   ],
   "source": []
  },
  {
   "cell_type": "code",
   "execution_count": 14,
   "metadata": {},
   "outputs": [],
   "source": [
    "df.to_csv('../../data/tablut_games_clean.csv', index=False)"
   ]
  },
  {
   "cell_type": "markdown",
   "metadata": {},
   "source": [
    "## Convert Data to Input\n",
    "Nice! We've done some initial investigation and cleaned up the data. Next step is to write functions that will generate bitvectors for games, and that will transform the moves so that I can leverage some symmetry augmentation to build out my trainable dataset."
   ]
  },
  {
   "cell_type": "code",
   "execution_count": 13,
   "metadata": {},
   "outputs": [],
   "source": [
    "notation_translator = {'a': -1, 'b': 8, 'c': 17, 'd': 26, 'e': 35, 'f': 44, 'g': 53, 'h': 62, 'i': 71}\n",
    "output_index = generate_output_index()\n",
    "\n",
    "def alg_to_tuple(notation):\n",
    "    \"\"\"\n",
    "    Function to translate algebraic notation to tuple. Returns tuple (start_square, end_square).\n",
    "    \"\"\"\n",
    "    return (notation_translator[notation[0]]+int(notation[1]), notation_translator[notation[3]]+int(notation[4]))\n",
    "\n",
    "df['Move_Tuple_0'] = df['Move'].apply(alg_to_tuple)"
   ]
  },
  {
   "cell_type": "markdown",
   "metadata": {},
   "source": [
    "Let's add our augmented moves. We have 8 possible configurations (original; mirrored horizontically, vertically, and diagonallyx2; and rotated 90, 180 and 270 degrees)"
   ]
  },
  {
   "cell_type": "code",
   "execution_count": 14,
   "metadata": {},
   "outputs": [],
   "source": [
    "def rotate_move(move_tuple):\n",
    "    \"\"\"\n",
    "    Rotate a move tuple (from square, to square) clockwise by 90 degrees.\n",
    "    \"\"\"\n",
    "    from_square = move_tuple[0]\n",
    "    to_square = move_tuple[1]\n",
    "\n",
    "    # Compute the row and column indices of the squares\n",
    "    from_row, from_col = divmod(from_square, 9)\n",
    "    to_row, to_col = divmod(to_square, 9)\n",
    "\n",
    "    # Compute the new row and column indices after rotation\n",
    "    rotated_from_row = from_col\n",
    "    rotated_from_col = 8 - from_row\n",
    "    rotated_to_row = to_col\n",
    "    rotated_to_col = 8 - to_row\n",
    "\n",
    "    # Compute the new square indices after rotation\n",
    "    rotated_from_square = rotated_from_row * 9 + rotated_from_col\n",
    "    rotated_to_square = rotated_to_row * 9 + rotated_to_col\n",
    "\n",
    "    return (rotated_from_square, rotated_to_square)"
   ]
  },
  {
   "cell_type": "code",
   "execution_count": 15,
   "metadata": {},
   "outputs": [],
   "source": [
    "def mirror_move_vertically(move_tuple):\n",
    "    \"\"\"\n",
    "    Mirror a move tuple (from square, to square) vertically.\n",
    "    \"\"\"\n",
    "    from_square = move_tuple[0]\n",
    "    to_square = move_tuple[1]\n",
    "\n",
    "    # Compute the row and column indices of the squares\n",
    "    from_row, from_col = divmod(from_square, 9)\n",
    "    to_row, to_col = divmod(to_square, 9)\n",
    "\n",
    "    # Compute the new row and column indices after vertical mirroring\n",
    "    mirrored_from_row = 8 - from_row\n",
    "    mirrored_to_row = 8 - to_row\n",
    "\n",
    "    # Compute the new square indices after vertical mirroring\n",
    "    mirrored_from_square = mirrored_from_row * 9 + from_col\n",
    "    mirrored_to_square = mirrored_to_row * 9 + to_col\n",
    "\n",
    "    return (mirrored_from_square, mirrored_to_square)"
   ]
  },
  {
   "cell_type": "code",
   "execution_count": 16,
   "metadata": {},
   "outputs": [],
   "source": [
    "# mirrored vertically\n",
    "df['Move_Tuple_1'] = df['Move_Tuple_0'].apply(mirror_move_vertically)\n",
    "# rotated 90\n",
    "df['Move_Tuple_2'] = df['Move_Tuple_0'].apply(rotate_move)\n",
    "# mirrored then rotated\n",
    "df['Move_Tuple_3'] = df['Move_Tuple_1'].apply(rotate_move)\n",
    "# rotated then rotated\n",
    "df['Move_Tuple_4'] = df['Move_Tuple_2'].apply(rotate_move)\n",
    "# mirrored then rotated then rotated\n",
    "df['Move_Tuple_5'] = df['Move_Tuple_3'].apply(rotate_move)\n",
    "# rotated then rotated then rotated\n",
    "df['Move_Tuple_6'] = df['Move_Tuple_4'].apply(rotate_move)\n",
    "# rotated then mirrored\n",
    "df['Move_Tuple_7'] = df['Move_Tuple_2'].apply(mirror_move_vertically)"
   ]
  },
  {
   "cell_type": "markdown",
   "metadata": {},
   "source": [
    "Add an encoded outcome column so I can map this directly and avoid including this computation while iterating through rows. Draws might interfere with this. Potentially I should remove draws from the training."
   ]
  },
  {
   "cell_type": "code",
   "execution_count": 17,
   "metadata": {},
   "outputs": [],
   "source": [
    "result_dict = {'White': 1, 'Black': -1, 'Draw.': 0}\n",
    "\n",
    "df['Outcome_Encoded'] = df['Winner'].map(result_dict)"
   ]
  },
  {
   "cell_type": "code",
   "execution_count": 18,
   "metadata": {},
   "outputs": [],
   "source": [
    "board = Board()\n",
    "board.set_starting_position()\n",
    "board.generate_moves()\n",
    "move = df['Move_Tuple_0'].iloc[104]\n",
    "if move in board.legal_moves:\n",
    "    print(move)"
   ]
  },
  {
   "cell_type": "markdown",
   "metadata": {},
   "source": [
    "## Generating Single Dimensional Training Data and Training Model"
   ]
  },
  {
   "cell_type": "markdown",
   "metadata": {},
   "source": [
    "positions = []\n",
    "move_probabilities = []\n",
    "outcomes = []\n",
    "\n",
    "output_index = generate_output_index()\n",
    "output_index_length = len(output_index)\n",
    "\n",
    "board = Board()\n",
    "\n",
    "for i in tqdm(range(0, 8)):\n",
    "    for index, row in df.iterrows():\n",
    "        # reset board if it is a new game\n",
    "        if row['Move_Number'] == 0:\n",
    "            board = Board()\n",
    "            board.set_starting_position()\n",
    "        # convert board to bitvector, add it to positions list\n",
    "        positions.append(board.to_network_input())\n",
    "        #\n",
    "        board.generate_moves()\n",
    "        move = row[f'Move_Tuple_{i}']\n",
    "        if move in board.legal_moves:\n",
    "            move_prob = [0 for i in range(0, output_index_length)]\n",
    "            idx = board.get_network_output_index(move)\n",
    "            move_prob[idx] = 1\n",
    "            move_probabilities.append(move_prob)\n",
    "            outcomes.append(row['Outcome_Encoded'])\n",
    "\n",
    "            board.apply_move(move)\n",
    "        else:\n",
    "            print(index, row['Game_ID'])"
   ]
  },
  {
   "cell_type": "markdown",
   "metadata": {},
   "source": [
    "np.save(\"misc/positions\", np.array(positions))\n",
    "np.save(\"misc/moveprobs\", np.array(move_probabilities))\n",
    "np.save(\"misc/outcomes\", np.array(outcomes))"
   ]
  },
  {
   "cell_type": "markdown",
   "metadata": {},
   "source": [
    "model = keras.models.load_model(\"../saved_models/random_model_tablut.keras\")\n",
    "\n",
    "input_data = np.load(\"misc/positions.npy\")\n",
    "policy_outcomes = np.load(\"misc/moveprobs.npy\")\n",
    "value_outcomes = np.load(\"misc/outcomes.npy\")\n",
    "\n",
    "model.fit(input_data,[policy_outcomes, value_outcomes], epochs=512,\n",
    "batch_size=16)\n",
    "model.save('../saved_models/supervised_model_tablut.keras')\n"
   ]
  },
  {
   "cell_type": "markdown",
   "metadata": {},
   "source": [
    "## Generating Multi-Dim Training Data and Training Model\n",
    "This data is shape (4, 81) (white bitvector, black bv, king bv, turn bv)"
   ]
  },
  {
   "cell_type": "code",
   "execution_count": 19,
   "metadata": {},
   "outputs": [
    {
     "data": {
      "application/vnd.jupyter.widget-view+json": {
       "model_id": "edec7569f4a944e9877b74b6e496757e",
       "version_major": 2,
       "version_minor": 0
      },
      "text/plain": [
       "  0%|          | 0/8 [00:00<?, ?it/s]"
      ]
     },
     "metadata": {},
     "output_type": "display_data"
    }
   ],
   "source": [
    "positions = []\n",
    "move_probabilities = []\n",
    "outcomes = []\n",
    "\n",
    "output_index = generate_output_index()\n",
    "output_index_length = len(output_index)\n",
    "\n",
    "board = Board()\n",
    "\n",
    "for i in tqdm(range(0, 8)):\n",
    "    for index, row in df.iterrows():\n",
    "        # reset board if it is a new game\n",
    "        if row['Move_Number'] == 0:\n",
    "            board = Board()\n",
    "            board.set_starting_position()\n",
    "        # convert board to bitvector, add it to positions list\n",
    "        positions.append(board.to_network_input_multidim())\n",
    "        #\n",
    "        board.generate_moves()\n",
    "        move = row[f'Move_Tuple_{i}']\n",
    "        if move in board.legal_moves:\n",
    "            move_prob = [0 for i in range(0, output_index_length)]\n",
    "            idx = board.get_network_output_index(move)\n",
    "            move_prob[idx] = 1\n",
    "            move_probabilities.append(move_prob)\n",
    "            outcomes.append(row['Outcome_Encoded'])\n",
    "\n",
    "            board.apply_move(move)\n",
    "        else:\n",
    "            print(index, row['Game_ID'])\n",
    "\n",
    "np.save(\"misc/positions_md\", np.array(positions))\n",
    "np.save(\"misc/moveprobs_md\", np.array(move_probabilities))\n",
    "np.save(\"misc/outcomes_md\", np.array(outcomes))"
   ]
  },
  {
   "cell_type": "code",
   "execution_count": 20,
   "metadata": {},
   "outputs": [
    {
     "name": "stdout",
     "output_type": "stream",
     "text": [
      "input_data shape = (182704, 4, 81)\n",
      "policy_outcomes shape = (182704, 1296)\n",
      "value_outcomes shape = (182704,)\n"
     ]
    }
   ],
   "source": [
    "x = np.load(\"misc/positions_md.npy\")\n",
    "print(f'input_data shape = {x.shape}')\n",
    "x = np.load(\"misc/moveprobs_md.npy\")\n",
    "print(f'policy_outcomes shape = {x.shape}')\n",
    "x = np.load(\"misc/outcomes_md.npy\")\n",
    "print(f'value_outcomes shape = {x.shape}')"
   ]
  },
  {
   "cell_type": "code",
   "execution_count": 28,
   "metadata": {},
   "outputs": [
    {
     "name": "stdout",
     "output_type": "stream",
     "text": [
      "Epoch 1/512\n",
      "\u001b[1m11419/11419\u001b[0m \u001b[32m━━━━━━━━━━━━━━━━━━━━\u001b[0m\u001b[37m\u001b[0m \u001b[1m44s\u001b[0m 4ms/step - loss: 7.3481\n",
      "Epoch 2/512\n",
      "\u001b[1m11419/11419\u001b[0m \u001b[32m━━━━━━━━━━━━━━━━━━━━\u001b[0m\u001b[37m\u001b[0m \u001b[1m45s\u001b[0m 4ms/step - loss: 6.5334\n",
      "Epoch 3/512\n",
      "\u001b[1m11419/11419\u001b[0m \u001b[32m━━━━━━━━━━━━━━━━━━━━\u001b[0m\u001b[37m\u001b[0m \u001b[1m45s\u001b[0m 4ms/step - loss: 6.2919\n",
      "Epoch 4/512\n",
      "\u001b[1m11419/11419\u001b[0m \u001b[32m━━━━━━━━━━━━━━━━━━━━\u001b[0m\u001b[37m\u001b[0m \u001b[1m44s\u001b[0m 4ms/step - loss: 6.0286\n",
      "Epoch 5/512\n",
      "\u001b[1m11419/11419\u001b[0m \u001b[32m━━━━━━━━━━━━━━━━━━━━\u001b[0m\u001b[37m\u001b[0m \u001b[1m44s\u001b[0m 4ms/step - loss: 5.7869\n",
      "Epoch 6/512\n",
      "\u001b[1m11419/11419\u001b[0m \u001b[32m━━━━━━━━━━━━━━━━━━━━\u001b[0m\u001b[37m\u001b[0m \u001b[1m43s\u001b[0m 4ms/step - loss: 5.5936\n",
      "Epoch 7/512\n",
      "\u001b[1m11419/11419\u001b[0m \u001b[32m━━━━━━━━━━━━━━━━━━━━\u001b[0m\u001b[37m\u001b[0m \u001b[1m44s\u001b[0m 4ms/step - loss: 5.4233\n",
      "Epoch 8/512\n",
      "\u001b[1m11419/11419\u001b[0m \u001b[32m━━━━━━━━━━━━━━━━━━━━\u001b[0m\u001b[37m\u001b[0m \u001b[1m44s\u001b[0m 4ms/step - loss: 5.2846\n",
      "Epoch 9/512\n",
      "\u001b[1m11419/11419\u001b[0m \u001b[32m━━━━━━━━━━━━━━━━━━━━\u001b[0m\u001b[37m\u001b[0m \u001b[1m42s\u001b[0m 4ms/step - loss: 5.1723\n",
      "Epoch 10/512\n",
      "\u001b[1m11419/11419\u001b[0m \u001b[32m━━━━━━━━━━━━━━━━━━━━\u001b[0m\u001b[37m\u001b[0m \u001b[1m43s\u001b[0m 4ms/step - loss: 5.0790\n",
      "Epoch 11/512\n",
      "\u001b[1m11419/11419\u001b[0m \u001b[32m━━━━━━━━━━━━━━━━━━━━\u001b[0m\u001b[37m\u001b[0m \u001b[1m44s\u001b[0m 4ms/step - loss: 5.0004\n",
      "Epoch 12/512\n",
      "\u001b[1m11419/11419\u001b[0m \u001b[32m━━━━━━━━━━━━━━━━━━━━\u001b[0m\u001b[37m\u001b[0m \u001b[1m43s\u001b[0m 4ms/step - loss: 4.9183\n",
      "Epoch 13/512\n",
      "\u001b[1m11419/11419\u001b[0m \u001b[32m━━━━━━━━━━━━━━━━━━━━\u001b[0m\u001b[37m\u001b[0m \u001b[1m43s\u001b[0m 4ms/step - loss: 4.8528\n",
      "Epoch 14/512\n",
      "\u001b[1m11419/11419\u001b[0m \u001b[32m━━━━━━━━━━━━━━━━━━━━\u001b[0m\u001b[37m\u001b[0m \u001b[1m44s\u001b[0m 4ms/step - loss: 4.7853\n",
      "Epoch 15/512\n",
      "\u001b[1m11419/11419\u001b[0m \u001b[32m━━━━━━━━━━━━━━━━━━━━\u001b[0m\u001b[37m\u001b[0m \u001b[1m44s\u001b[0m 4ms/step - loss: 4.7308\n",
      "Epoch 16/512\n",
      "\u001b[1m11419/11419\u001b[0m \u001b[32m━━━━━━━━━━━━━━━━━━━━\u001b[0m\u001b[37m\u001b[0m \u001b[1m42s\u001b[0m 4ms/step - loss: 4.6684\n",
      "Epoch 17/512\n",
      "\u001b[1m11419/11419\u001b[0m \u001b[32m━━━━━━━━━━━━━━━━━━━━\u001b[0m\u001b[37m\u001b[0m \u001b[1m42s\u001b[0m 4ms/step - loss: 4.6195\n",
      "Epoch 18/512\n",
      "\u001b[1m11419/11419\u001b[0m \u001b[32m━━━━━━━━━━━━━━━━━━━━\u001b[0m\u001b[37m\u001b[0m \u001b[1m42s\u001b[0m 4ms/step - loss: 4.5700\n",
      "Epoch 19/512\n",
      "\u001b[1m11419/11419\u001b[0m \u001b[32m━━━━━━━━━━━━━━━━━━━━\u001b[0m\u001b[37m\u001b[0m \u001b[1m44s\u001b[0m 4ms/step - loss: 4.5185\n",
      "Epoch 20/512\n",
      "\u001b[1m11419/11419\u001b[0m \u001b[32m━━━━━━━━━━━━━━━━━━━━\u001b[0m\u001b[37m\u001b[0m \u001b[1m44s\u001b[0m 4ms/step - loss: 4.4807\n",
      "Epoch 21/512\n",
      "\u001b[1m11419/11419\u001b[0m \u001b[32m━━━━━━━━━━━━━━━━━━━━\u001b[0m\u001b[37m\u001b[0m \u001b[1m47s\u001b[0m 4ms/step - loss: 4.4467\n",
      "Epoch 22/512\n",
      "\u001b[1m11419/11419\u001b[0m \u001b[32m━━━━━━━━━━━━━━━━━━━━\u001b[0m\u001b[37m\u001b[0m \u001b[1m45s\u001b[0m 4ms/step - loss: 4.4049\n",
      "Epoch 23/512\n",
      "\u001b[1m11419/11419\u001b[0m \u001b[32m━━━━━━━━━━━━━━━━━━━━\u001b[0m\u001b[37m\u001b[0m \u001b[1m44s\u001b[0m 4ms/step - loss: 4.3745\n",
      "Epoch 24/512\n",
      "\u001b[1m11419/11419\u001b[0m \u001b[32m━━━━━━━━━━━━━━━━━━━━\u001b[0m\u001b[37m\u001b[0m \u001b[1m44s\u001b[0m 4ms/step - loss: 4.3494\n",
      "Epoch 25/512\n",
      "\u001b[1m11419/11419\u001b[0m \u001b[32m━━━━━━━━━━━━━━━━━━━━\u001b[0m\u001b[37m\u001b[0m \u001b[1m44s\u001b[0m 4ms/step - loss: 4.3079\n",
      "Epoch 26/512\n",
      "\u001b[1m11419/11419\u001b[0m \u001b[32m━━━━━━━━━━━━━━━━━━━━\u001b[0m\u001b[37m\u001b[0m \u001b[1m44s\u001b[0m 4ms/step - loss: 4.2780\n",
      "Epoch 27/512\n",
      "\u001b[1m11419/11419\u001b[0m \u001b[32m━━━━━━━━━━━━━━━━━━━━\u001b[0m\u001b[37m\u001b[0m \u001b[1m45s\u001b[0m 4ms/step - loss: 4.2561\n",
      "Epoch 28/512\n",
      "\u001b[1m11419/11419\u001b[0m \u001b[32m━━━━━━━━━━━━━━━━━━━━\u001b[0m\u001b[37m\u001b[0m \u001b[1m45s\u001b[0m 4ms/step - loss: 4.2187\n",
      "Epoch 29/512\n",
      "\u001b[1m11419/11419\u001b[0m \u001b[32m━━━━━━━━━━━━━━━━━━━━\u001b[0m\u001b[37m\u001b[0m \u001b[1m43s\u001b[0m 4ms/step - loss: 4.1820\n",
      "Epoch 30/512\n",
      "\u001b[1m11419/11419\u001b[0m \u001b[32m━━━━━━━━━━━━━━━━━━━━\u001b[0m\u001b[37m\u001b[0m \u001b[1m44s\u001b[0m 4ms/step - loss: 4.1591\n",
      "Epoch 31/512\n",
      "\u001b[1m11419/11419\u001b[0m \u001b[32m━━━━━━━━━━━━━━━━━━━━\u001b[0m\u001b[37m\u001b[0m \u001b[1m42s\u001b[0m 4ms/step - loss: 4.1352\n",
      "Epoch 32/512\n",
      "\u001b[1m11419/11419\u001b[0m \u001b[32m━━━━━━━━━━━━━━━━━━━━\u001b[0m\u001b[37m\u001b[0m \u001b[1m43s\u001b[0m 4ms/step - loss: 4.1118\n",
      "Epoch 33/512\n",
      "\u001b[1m11419/11419\u001b[0m \u001b[32m━━━━━━━━━━━━━━━━━━━━\u001b[0m\u001b[37m\u001b[0m \u001b[1m44s\u001b[0m 4ms/step - loss: 4.0990\n",
      "Epoch 34/512\n",
      "\u001b[1m11419/11419\u001b[0m \u001b[32m━━━━━━━━━━━━━━━━━━━━\u001b[0m\u001b[37m\u001b[0m \u001b[1m45s\u001b[0m 4ms/step - loss: 4.0741\n",
      "Epoch 35/512\n",
      "\u001b[1m11419/11419\u001b[0m \u001b[32m━━━━━━━━━━━━━━━━━━━━\u001b[0m\u001b[37m\u001b[0m \u001b[1m44s\u001b[0m 4ms/step - loss: 4.0444\n",
      "Epoch 36/512\n",
      "\u001b[1m11419/11419\u001b[0m \u001b[32m━━━━━━━━━━━━━━━━━━━━\u001b[0m\u001b[37m\u001b[0m \u001b[1m44s\u001b[0m 4ms/step - loss: 4.0369\n",
      "Epoch 37/512\n",
      "\u001b[1m11419/11419\u001b[0m \u001b[32m━━━━━━━━━━━━━━━━━━━━\u001b[0m\u001b[37m\u001b[0m \u001b[1m44s\u001b[0m 4ms/step - loss: 3.9969\n",
      "Epoch 38/512\n",
      "\u001b[1m11419/11419\u001b[0m \u001b[32m━━━━━━━━━━━━━━━━━━━━\u001b[0m\u001b[37m\u001b[0m \u001b[1m44s\u001b[0m 4ms/step - loss: 3.9869\n",
      "Epoch 39/512\n",
      "\u001b[1m11419/11419\u001b[0m \u001b[32m━━━━━━━━━━━━━━━━━━━━\u001b[0m\u001b[37m\u001b[0m \u001b[1m44s\u001b[0m 4ms/step - loss: 3.9775\n",
      "Epoch 40/512\n",
      "\u001b[1m11419/11419\u001b[0m \u001b[32m━━━━━━━━━━━━━━━━━━━━\u001b[0m\u001b[37m\u001b[0m \u001b[1m45s\u001b[0m 4ms/step - loss: 3.9562\n",
      "Epoch 41/512\n",
      "\u001b[1m11419/11419\u001b[0m \u001b[32m━━━━━━━━━━━━━━━━━━━━\u001b[0m\u001b[37m\u001b[0m \u001b[1m44s\u001b[0m 4ms/step - loss: 3.9327\n",
      "Epoch 42/512\n",
      "\u001b[1m11419/11419\u001b[0m \u001b[32m━━━━━━━━━━━━━━━━━━━━\u001b[0m\u001b[37m\u001b[0m \u001b[1m45s\u001b[0m 4ms/step - loss: 3.9096\n",
      "Epoch 43/512\n",
      "\u001b[1m11419/11419\u001b[0m \u001b[32m━━━━━━━━━━━━━━━━━━━━\u001b[0m\u001b[37m\u001b[0m \u001b[1m45s\u001b[0m 4ms/step - loss: 3.9137\n",
      "Epoch 44/512\n",
      "\u001b[1m11419/11419\u001b[0m \u001b[32m━━━━━━━━━━━━━━━━━━━━\u001b[0m\u001b[37m\u001b[0m \u001b[1m44s\u001b[0m 4ms/step - loss: 3.8846\n",
      "Epoch 45/512\n",
      "\u001b[1m11419/11419\u001b[0m \u001b[32m━━━━━━━━━━━━━━━━━━━━\u001b[0m\u001b[37m\u001b[0m \u001b[1m44s\u001b[0m 4ms/step - loss: 3.8672\n",
      "Epoch 46/512\n",
      "\u001b[1m11419/11419\u001b[0m \u001b[32m━━━━━━━━━━━━━━━━━━━━\u001b[0m\u001b[37m\u001b[0m \u001b[1m44s\u001b[0m 4ms/step - loss: 3.8563\n",
      "Epoch 47/512\n",
      "\u001b[1m11419/11419\u001b[0m \u001b[32m━━━━━━━━━━━━━━━━━━━━\u001b[0m\u001b[37m\u001b[0m \u001b[1m44s\u001b[0m 4ms/step - loss: 3.8534\n",
      "Epoch 48/512\n",
      "\u001b[1m11419/11419\u001b[0m \u001b[32m━━━━━━━━━━━━━━━━━━━━\u001b[0m\u001b[37m\u001b[0m \u001b[1m45s\u001b[0m 4ms/step - loss: 3.8326\n",
      "Epoch 49/512\n",
      "\u001b[1m11419/11419\u001b[0m \u001b[32m━━━━━━━━━━━━━━━━━━━━\u001b[0m\u001b[37m\u001b[0m \u001b[1m45s\u001b[0m 4ms/step - loss: 3.8087\n",
      "Epoch 50/512\n",
      "\u001b[1m11419/11419\u001b[0m \u001b[32m━━━━━━━━━━━━━━━━━━━━\u001b[0m\u001b[37m\u001b[0m \u001b[1m45s\u001b[0m 4ms/step - loss: 3.8068\n",
      "Epoch 51/512\n",
      "\u001b[1m11419/11419\u001b[0m \u001b[32m━━━━━━━━━━━━━━━━━━━━\u001b[0m\u001b[37m\u001b[0m \u001b[1m45s\u001b[0m 4ms/step - loss: 3.7909\n",
      "Epoch 52/512\n",
      "\u001b[1m11419/11419\u001b[0m \u001b[32m━━━━━━━━━━━━━━━━━━━━\u001b[0m\u001b[37m\u001b[0m \u001b[1m44s\u001b[0m 4ms/step - loss: 3.7907\n",
      "Epoch 53/512\n",
      "\u001b[1m11419/11419\u001b[0m \u001b[32m━━━━━━━━━━━━━━━━━━━━\u001b[0m\u001b[37m\u001b[0m \u001b[1m44s\u001b[0m 4ms/step - loss: 3.7700\n",
      "Epoch 54/512\n",
      "\u001b[1m11419/11419\u001b[0m \u001b[32m━━━━━━━━━━━━━━━━━━━━\u001b[0m\u001b[37m\u001b[0m \u001b[1m45s\u001b[0m 4ms/step - loss: 3.7550\n",
      "Epoch 55/512\n",
      "\u001b[1m11419/11419\u001b[0m \u001b[32m━━━━━━━━━━━━━━━━━━━━\u001b[0m\u001b[37m\u001b[0m \u001b[1m45s\u001b[0m 4ms/step - loss: 3.7478\n",
      "Epoch 56/512\n",
      "\u001b[1m11419/11419\u001b[0m \u001b[32m━━━━━━━━━━━━━━━━━━━━\u001b[0m\u001b[37m\u001b[0m \u001b[1m44s\u001b[0m 4ms/step - loss: 3.7286\n",
      "Epoch 57/512\n",
      "\u001b[1m11419/11419\u001b[0m \u001b[32m━━━━━━━━━━━━━━━━━━━━\u001b[0m\u001b[37m\u001b[0m \u001b[1m45s\u001b[0m 4ms/step - loss: 3.7216\n",
      "Epoch 58/512\n",
      "\u001b[1m11419/11419\u001b[0m \u001b[32m━━━━━━━━━━━━━━━━━━━━\u001b[0m\u001b[37m\u001b[0m \u001b[1m44s\u001b[0m 4ms/step - loss: 3.7153\n",
      "Epoch 59/512\n",
      "\u001b[1m11419/11419\u001b[0m \u001b[32m━━━━━━━━━━━━━━━━━━━━\u001b[0m\u001b[37m\u001b[0m \u001b[1m44s\u001b[0m 4ms/step - loss: 3.7098\n",
      "Epoch 60/512\n",
      "\u001b[1m11419/11419\u001b[0m \u001b[32m━━━━━━━━━━━━━━━━━━━━\u001b[0m\u001b[37m\u001b[0m \u001b[1m44s\u001b[0m 4ms/step - loss: 3.6930\n",
      "Epoch 61/512\n",
      "\u001b[1m11419/11419\u001b[0m \u001b[32m━━━━━━━━━━━━━━━━━━━━\u001b[0m\u001b[37m\u001b[0m \u001b[1m44s\u001b[0m 4ms/step - loss: 3.6820\n",
      "Epoch 62/512\n",
      "\u001b[1m11419/11419\u001b[0m \u001b[32m━━━━━━━━━━━━━━━━━━━━\u001b[0m\u001b[37m\u001b[0m \u001b[1m44s\u001b[0m 4ms/step - loss: 3.6769\n",
      "Epoch 63/512\n",
      "\u001b[1m11419/11419\u001b[0m \u001b[32m━━━━━━━━━━━━━━━━━━━━\u001b[0m\u001b[37m\u001b[0m \u001b[1m44s\u001b[0m 4ms/step - loss: 3.6702\n",
      "Epoch 64/512\n",
      "\u001b[1m11419/11419\u001b[0m \u001b[32m━━━━━━━━━━━━━━━━━━━━\u001b[0m\u001b[37m\u001b[0m \u001b[1m44s\u001b[0m 4ms/step - loss: 3.6675\n",
      "Epoch 65/512\n",
      "\u001b[1m11419/11419\u001b[0m \u001b[32m━━━━━━━━━━━━━━━━━━━━\u001b[0m\u001b[37m\u001b[0m \u001b[1m44s\u001b[0m 4ms/step - loss: 3.6503\n",
      "Epoch 66/512\n",
      "\u001b[1m11419/11419\u001b[0m \u001b[32m━━━━━━━━━━━━━━━━━━━━\u001b[0m\u001b[37m\u001b[0m \u001b[1m44s\u001b[0m 4ms/step - loss: 3.6349\n",
      "Epoch 67/512\n",
      "\u001b[1m11419/11419\u001b[0m \u001b[32m━━━━━━━━━━━━━━━━━━━━\u001b[0m\u001b[37m\u001b[0m \u001b[1m45s\u001b[0m 4ms/step - loss: 3.6365\n",
      "Epoch 68/512\n",
      "\u001b[1m11419/11419\u001b[0m \u001b[32m━━━━━━━━━━━━━━━━━━━━\u001b[0m\u001b[37m\u001b[0m \u001b[1m43s\u001b[0m 4ms/step - loss: 3.6092\n",
      "Epoch 69/512\n",
      "\u001b[1m11419/11419\u001b[0m \u001b[32m━━━━━━━━━━━━━━━━━━━━\u001b[0m\u001b[37m\u001b[0m \u001b[1m43s\u001b[0m 4ms/step - loss: 3.6169\n",
      "Epoch 70/512\n",
      "\u001b[1m11419/11419\u001b[0m \u001b[32m━━━━━━━━━━━━━━━━━━━━\u001b[0m\u001b[37m\u001b[0m \u001b[1m42s\u001b[0m 4ms/step - loss: 3.6043\n",
      "Epoch 71/512\n",
      "\u001b[1m11419/11419\u001b[0m \u001b[32m━━━━━━━━━━━━━━━━━━━━\u001b[0m\u001b[37m\u001b[0m \u001b[1m43s\u001b[0m 4ms/step - loss: 3.6046\n",
      "Epoch 72/512\n",
      "\u001b[1m11419/11419\u001b[0m \u001b[32m━━━━━━━━━━━━━━━━━━━━\u001b[0m\u001b[37m\u001b[0m \u001b[1m43s\u001b[0m 4ms/step - loss: 3.5830\n",
      "Epoch 73/512\n",
      "\u001b[1m11419/11419\u001b[0m \u001b[32m━━━━━━━━━━━━━━━━━━━━\u001b[0m\u001b[37m\u001b[0m \u001b[1m42s\u001b[0m 4ms/step - loss: 3.5834\n",
      "Epoch 74/512\n",
      "\u001b[1m11419/11419\u001b[0m \u001b[32m━━━━━━━━━━━━━━━━━━━━\u001b[0m\u001b[37m\u001b[0m \u001b[1m42s\u001b[0m 4ms/step - loss: 3.5734\n",
      "Epoch 75/512\n",
      "\u001b[1m11419/11419\u001b[0m \u001b[32m━━━━━━━━━━━━━━━━━━━━\u001b[0m\u001b[37m\u001b[0m \u001b[1m44s\u001b[0m 4ms/step - loss: 3.5738\n",
      "Epoch 76/512\n",
      "\u001b[1m11419/11419\u001b[0m \u001b[32m━━━━━━━━━━━━━━━━━━━━\u001b[0m\u001b[37m\u001b[0m \u001b[1m42s\u001b[0m 4ms/step - loss: 3.5584\n",
      "Epoch 77/512\n",
      "\u001b[1m11419/11419\u001b[0m \u001b[32m━━━━━━━━━━━━━━━━━━━━\u001b[0m\u001b[37m\u001b[0m \u001b[1m42s\u001b[0m 4ms/step - loss: 3.5550\n",
      "Epoch 78/512\n",
      "\u001b[1m11419/11419\u001b[0m \u001b[32m━━━━━━━━━━━━━━━━━━━━\u001b[0m\u001b[37m\u001b[0m \u001b[1m43s\u001b[0m 4ms/step - loss: 3.5544\n",
      "Epoch 79/512\n",
      "\u001b[1m11419/11419\u001b[0m \u001b[32m━━━━━━━━━━━━━━━━━━━━\u001b[0m\u001b[37m\u001b[0m \u001b[1m43s\u001b[0m 4ms/step - loss: 3.5404\n",
      "Epoch 80/512\n",
      "\u001b[1m11419/11419\u001b[0m \u001b[32m━━━━━━━━━━━━━━━━━━━━\u001b[0m\u001b[37m\u001b[0m \u001b[1m42s\u001b[0m 4ms/step - loss: 3.5268\n",
      "Epoch 81/512\n",
      "\u001b[1m11419/11419\u001b[0m \u001b[32m━━━━━━━━━━━━━━━━━━━━\u001b[0m\u001b[37m\u001b[0m \u001b[1m42s\u001b[0m 4ms/step - loss: 3.5309\n",
      "Epoch 82/512\n",
      "\u001b[1m11419/11419\u001b[0m \u001b[32m━━━━━━━━━━━━━━━━━━━━\u001b[0m\u001b[37m\u001b[0m \u001b[1m43s\u001b[0m 4ms/step - loss: 3.5181\n",
      "Epoch 83/512\n",
      "\u001b[1m11419/11419\u001b[0m \u001b[32m━━━━━━━━━━━━━━━━━━━━\u001b[0m\u001b[37m\u001b[0m \u001b[1m43s\u001b[0m 4ms/step - loss: 3.5384\n",
      "Epoch 84/512\n",
      "\u001b[1m11419/11419\u001b[0m \u001b[32m━━━━━━━━━━━━━━━━━━━━\u001b[0m\u001b[37m\u001b[0m \u001b[1m43s\u001b[0m 4ms/step - loss: 3.5180\n",
      "Epoch 85/512\n",
      "\u001b[1m11419/11419\u001b[0m \u001b[32m━━━━━━━━━━━━━━━━━━━━\u001b[0m\u001b[37m\u001b[0m \u001b[1m43s\u001b[0m 4ms/step - loss: 3.5007\n",
      "Epoch 86/512\n",
      "\u001b[1m11419/11419\u001b[0m \u001b[32m━━━━━━━━━━━━━━━━━━━━\u001b[0m\u001b[37m\u001b[0m \u001b[1m43s\u001b[0m 4ms/step - loss: 3.5035\n",
      "Epoch 87/512\n",
      "\u001b[1m11419/11419\u001b[0m \u001b[32m━━━━━━━━━━━━━━━━━━━━\u001b[0m\u001b[37m\u001b[0m \u001b[1m42s\u001b[0m 4ms/step - loss: 3.5033\n",
      "Epoch 88/512\n",
      "\u001b[1m11419/11419\u001b[0m \u001b[32m━━━━━━━━━━━━━━━━━━━━\u001b[0m\u001b[37m\u001b[0m \u001b[1m42s\u001b[0m 4ms/step - loss: 3.4908\n",
      "Epoch 89/512\n",
      "\u001b[1m11419/11419\u001b[0m \u001b[32m━━━━━━━━━━━━━━━━━━━━\u001b[0m\u001b[37m\u001b[0m \u001b[1m43s\u001b[0m 4ms/step - loss: 3.4942\n",
      "Epoch 90/512\n",
      "\u001b[1m11419/11419\u001b[0m \u001b[32m━━━━━━━━━━━━━━━━━━━━\u001b[0m\u001b[37m\u001b[0m \u001b[1m43s\u001b[0m 4ms/step - loss: 3.4964\n",
      "Epoch 91/512\n",
      "\u001b[1m11419/11419\u001b[0m \u001b[32m━━━━━━━━━━━━━━━━━━━━\u001b[0m\u001b[37m\u001b[0m \u001b[1m43s\u001b[0m 4ms/step - loss: 3.4865\n",
      "Epoch 92/512\n",
      "\u001b[1m11419/11419\u001b[0m \u001b[32m━━━━━━━━━━━━━━━━━━━━\u001b[0m\u001b[37m\u001b[0m \u001b[1m42s\u001b[0m 4ms/step - loss: 3.4757\n",
      "Epoch 93/512\n",
      "\u001b[1m11419/11419\u001b[0m \u001b[32m━━━━━━━━━━━━━━━━━━━━\u001b[0m\u001b[37m\u001b[0m \u001b[1m44s\u001b[0m 4ms/step - loss: 3.4752\n",
      "Epoch 94/512\n",
      "\u001b[1m11419/11419\u001b[0m \u001b[32m━━━━━━━━━━━━━━━━━━━━\u001b[0m\u001b[37m\u001b[0m \u001b[1m43s\u001b[0m 4ms/step - loss: 3.4634\n",
      "Epoch 95/512\n",
      "\u001b[1m11419/11419\u001b[0m \u001b[32m━━━━━━━━━━━━━━━━━━━━\u001b[0m\u001b[37m\u001b[0m \u001b[1m43s\u001b[0m 4ms/step - loss: 3.4668\n",
      "Epoch 96/512\n",
      "\u001b[1m11419/11419\u001b[0m \u001b[32m━━━━━━━━━━━━━━━━━━━━\u001b[0m\u001b[37m\u001b[0m \u001b[1m44s\u001b[0m 4ms/step - loss: 3.4443\n",
      "Epoch 97/512\n",
      "\u001b[1m11419/11419\u001b[0m \u001b[32m━━━━━━━━━━━━━━━━━━━━\u001b[0m\u001b[37m\u001b[0m \u001b[1m43s\u001b[0m 4ms/step - loss: 3.4459\n",
      "Epoch 98/512\n",
      "\u001b[1m11419/11419\u001b[0m \u001b[32m━━━━━━━━━━━━━━━━━━━━\u001b[0m\u001b[37m\u001b[0m \u001b[1m43s\u001b[0m 4ms/step - loss: 3.4456\n",
      "Epoch 99/512\n",
      "\u001b[1m11419/11419\u001b[0m \u001b[32m━━━━━━━━━━━━━━━━━━━━\u001b[0m\u001b[37m\u001b[0m \u001b[1m43s\u001b[0m 4ms/step - loss: 3.4477\n",
      "Epoch 100/512\n",
      "\u001b[1m11419/11419\u001b[0m \u001b[32m━━━━━━━━━━━━━━━━━━━━\u001b[0m\u001b[37m\u001b[0m \u001b[1m43s\u001b[0m 4ms/step - loss: 3.4433\n",
      "Epoch 101/512\n",
      "\u001b[1m11419/11419\u001b[0m \u001b[32m━━━━━━━━━━━━━━━━━━━━\u001b[0m\u001b[37m\u001b[0m \u001b[1m43s\u001b[0m 4ms/step - loss: 3.4345\n",
      "Epoch 102/512\n",
      "\u001b[1m11419/11419\u001b[0m \u001b[32m━━━━━━━━━━━━━━━━━━━━\u001b[0m\u001b[37m\u001b[0m \u001b[1m43s\u001b[0m 4ms/step - loss: 3.4361\n",
      "Epoch 103/512\n",
      "\u001b[1m11419/11419\u001b[0m \u001b[32m━━━━━━━━━━━━━━━━━━━━\u001b[0m\u001b[37m\u001b[0m \u001b[1m43s\u001b[0m 4ms/step - loss: 3.4321\n",
      "Epoch 104/512\n",
      "\u001b[1m11419/11419\u001b[0m \u001b[32m━━━━━━━━━━━━━━━━━━━━\u001b[0m\u001b[37m\u001b[0m \u001b[1m43s\u001b[0m 4ms/step - loss: 3.4244\n",
      "Epoch 105/512\n",
      "\u001b[1m11419/11419\u001b[0m \u001b[32m━━━━━━━━━━━━━━━━━━━━\u001b[0m\u001b[37m\u001b[0m \u001b[1m44s\u001b[0m 4ms/step - loss: 3.4222\n",
      "Epoch 106/512\n",
      "\u001b[1m11419/11419\u001b[0m \u001b[32m━━━━━━━━━━━━━━━━━━━━\u001b[0m\u001b[37m\u001b[0m \u001b[1m43s\u001b[0m 4ms/step - loss: 3.4135\n",
      "Epoch 107/512\n",
      "\u001b[1m11419/11419\u001b[0m \u001b[32m━━━━━━━━━━━━━━━━━━━━\u001b[0m\u001b[37m\u001b[0m \u001b[1m44s\u001b[0m 4ms/step - loss: 3.4054\n",
      "Epoch 108/512\n",
      "\u001b[1m11419/11419\u001b[0m \u001b[32m━━━━━━━━━━━━━━━━━━━━\u001b[0m\u001b[37m\u001b[0m \u001b[1m43s\u001b[0m 4ms/step - loss: 3.4151\n",
      "Epoch 109/512\n",
      "\u001b[1m11419/11419\u001b[0m \u001b[32m━━━━━━━━━━━━━━━━━━━━\u001b[0m\u001b[37m\u001b[0m \u001b[1m43s\u001b[0m 4ms/step - loss: 3.3994\n",
      "Epoch 110/512\n",
      "\u001b[1m11419/11419\u001b[0m \u001b[32m━━━━━━━━━━━━━━━━━━━━\u001b[0m\u001b[37m\u001b[0m \u001b[1m42s\u001b[0m 4ms/step - loss: 3.3988\n",
      "Epoch 111/512\n",
      "\u001b[1m11419/11419\u001b[0m \u001b[32m━━━━━━━━━━━━━━━━━━━━\u001b[0m\u001b[37m\u001b[0m \u001b[1m42s\u001b[0m 4ms/step - loss: 3.3833\n",
      "Epoch 112/512\n",
      "\u001b[1m11419/11419\u001b[0m \u001b[32m━━━━━━━━━━━━━━━━━━━━\u001b[0m\u001b[37m\u001b[0m \u001b[1m43s\u001b[0m 4ms/step - loss: 3.3945\n",
      "Epoch 113/512\n",
      "\u001b[1m11419/11419\u001b[0m \u001b[32m━━━━━━━━━━━━━━━━━━━━\u001b[0m\u001b[37m\u001b[0m \u001b[1m42s\u001b[0m 4ms/step - loss: 3.3926\n",
      "Epoch 114/512\n",
      "\u001b[1m11419/11419\u001b[0m \u001b[32m━━━━━━━━━━━━━━━━━━━━\u001b[0m\u001b[37m\u001b[0m \u001b[1m42s\u001b[0m 4ms/step - loss: 3.3913\n",
      "Epoch 115/512\n",
      "\u001b[1m11419/11419\u001b[0m \u001b[32m━━━━━━━━━━━━━━━━━━━━\u001b[0m\u001b[37m\u001b[0m \u001b[1m43s\u001b[0m 4ms/step - loss: 3.3905\n",
      "Epoch 116/512\n",
      "\u001b[1m11419/11419\u001b[0m \u001b[32m━━━━━━━━━━━━━━━━━━━━\u001b[0m\u001b[37m\u001b[0m \u001b[1m44s\u001b[0m 4ms/step - loss: 3.3817\n",
      "Epoch 117/512\n",
      "\u001b[1m11419/11419\u001b[0m \u001b[32m━━━━━━━━━━━━━━━━━━━━\u001b[0m\u001b[37m\u001b[0m \u001b[1m43s\u001b[0m 4ms/step - loss: 3.3817\n",
      "Epoch 118/512\n",
      "\u001b[1m11419/11419\u001b[0m \u001b[32m━━━━━━━━━━━━━━━━━━━━\u001b[0m\u001b[37m\u001b[0m \u001b[1m43s\u001b[0m 4ms/step - loss: 3.3714\n",
      "Epoch 119/512\n",
      "\u001b[1m11419/11419\u001b[0m \u001b[32m━━━━━━━━━━━━━━━━━━━━\u001b[0m\u001b[37m\u001b[0m \u001b[1m43s\u001b[0m 4ms/step - loss: 3.3670\n",
      "Epoch 120/512\n",
      "\u001b[1m11419/11419\u001b[0m \u001b[32m━━━━━━━━━━━━━━━━━━━━\u001b[0m\u001b[37m\u001b[0m \u001b[1m43s\u001b[0m 4ms/step - loss: 3.3777\n",
      "Epoch 121/512\n",
      "\u001b[1m11419/11419\u001b[0m \u001b[32m━━━━━━━━━━━━━━━━━━━━\u001b[0m\u001b[37m\u001b[0m \u001b[1m44s\u001b[0m 4ms/step - loss: 3.3722\n",
      "Epoch 122/512\n",
      "\u001b[1m11419/11419\u001b[0m \u001b[32m━━━━━━━━━━━━━━━━━━━━\u001b[0m\u001b[37m\u001b[0m \u001b[1m43s\u001b[0m 4ms/step - loss: 3.3690\n",
      "Epoch 123/512\n",
      "\u001b[1m11419/11419\u001b[0m \u001b[32m━━━━━━━━━━━━━━━━━━━━\u001b[0m\u001b[37m\u001b[0m \u001b[1m44s\u001b[0m 4ms/step - loss: 3.3716\n",
      "Epoch 124/512\n",
      "\u001b[1m11419/11419\u001b[0m \u001b[32m━━━━━━━━━━━━━━━━━━━━\u001b[0m\u001b[37m\u001b[0m \u001b[1m43s\u001b[0m 4ms/step - loss: 3.3589\n",
      "Epoch 125/512\n",
      "\u001b[1m11419/11419\u001b[0m \u001b[32m━━━━━━━━━━━━━━━━━━━━\u001b[0m\u001b[37m\u001b[0m \u001b[1m43s\u001b[0m 4ms/step - loss: 3.3524\n",
      "Epoch 126/512\n",
      "\u001b[1m11419/11419\u001b[0m \u001b[32m━━━━━━━━━━━━━━━━━━━━\u001b[0m\u001b[37m\u001b[0m \u001b[1m44s\u001b[0m 4ms/step - loss: 3.3622\n",
      "Epoch 127/512\n",
      "\u001b[1m11419/11419\u001b[0m \u001b[32m━━━━━━━━━━━━━━━━━━━━\u001b[0m\u001b[37m\u001b[0m \u001b[1m43s\u001b[0m 4ms/step - loss: 3.3600\n",
      "Epoch 128/512\n",
      "\u001b[1m11419/11419\u001b[0m \u001b[32m━━━━━━━━━━━━━━━━━━━━\u001b[0m\u001b[37m\u001b[0m \u001b[1m43s\u001b[0m 4ms/step - loss: 3.3523\n",
      "Epoch 129/512\n",
      "\u001b[1m11419/11419\u001b[0m \u001b[32m━━━━━━━━━━━━━━━━━━━━\u001b[0m\u001b[37m\u001b[0m \u001b[1m43s\u001b[0m 4ms/step - loss: 3.3443\n",
      "Epoch 130/512\n",
      "\u001b[1m11419/11419\u001b[0m \u001b[32m━━━━━━━━━━━━━━━━━━━━\u001b[0m\u001b[37m\u001b[0m \u001b[1m43s\u001b[0m 4ms/step - loss: 3.3409\n",
      "Epoch 131/512\n",
      "\u001b[1m11419/11419\u001b[0m \u001b[32m━━━━━━━━━━━━━━━━━━━━\u001b[0m\u001b[37m\u001b[0m \u001b[1m43s\u001b[0m 4ms/step - loss: 3.3417\n",
      "Epoch 132/512\n",
      "\u001b[1m11419/11419\u001b[0m \u001b[32m━━━━━━━━━━━━━━━━━━━━\u001b[0m\u001b[37m\u001b[0m \u001b[1m43s\u001b[0m 4ms/step - loss: 3.3352\n",
      "Epoch 133/512\n",
      "\u001b[1m11419/11419\u001b[0m \u001b[32m━━━━━━━━━━━━━━━━━━━━\u001b[0m\u001b[37m\u001b[0m \u001b[1m43s\u001b[0m 4ms/step - loss: 3.3332\n",
      "Epoch 134/512\n",
      "\u001b[1m11419/11419\u001b[0m \u001b[32m━━━━━━━━━━━━━━━━━━━━\u001b[0m\u001b[37m\u001b[0m \u001b[1m43s\u001b[0m 4ms/step - loss: 3.3292\n",
      "Epoch 135/512\n",
      "\u001b[1m11419/11419\u001b[0m \u001b[32m━━━━━━━━━━━━━━━━━━━━\u001b[0m\u001b[37m\u001b[0m \u001b[1m44s\u001b[0m 4ms/step - loss: 3.3306\n",
      "Epoch 136/512\n",
      "\u001b[1m11419/11419\u001b[0m \u001b[32m━━━━━━━━━━━━━━━━━━━━\u001b[0m\u001b[37m\u001b[0m \u001b[1m43s\u001b[0m 4ms/step - loss: 3.3217\n",
      "Epoch 137/512\n",
      "\u001b[1m11419/11419\u001b[0m \u001b[32m━━━━━━━━━━━━━━━━━━━━\u001b[0m\u001b[37m\u001b[0m \u001b[1m43s\u001b[0m 4ms/step - loss: 3.3240\n",
      "Epoch 138/512\n",
      "\u001b[1m11419/11419\u001b[0m \u001b[32m━━━━━━━━━━━━━━━━━━━━\u001b[0m\u001b[37m\u001b[0m \u001b[1m43s\u001b[0m 4ms/step - loss: 3.3311\n",
      "Epoch 139/512\n",
      "\u001b[1m11419/11419\u001b[0m \u001b[32m━━━━━━━━━━━━━━━━━━━━\u001b[0m\u001b[37m\u001b[0m \u001b[1m43s\u001b[0m 4ms/step - loss: 3.3226\n",
      "Epoch 140/512\n",
      "\u001b[1m11419/11419\u001b[0m \u001b[32m━━━━━━━━━━━━━━━━━━━━\u001b[0m\u001b[37m\u001b[0m \u001b[1m43s\u001b[0m 4ms/step - loss: 3.3204\n",
      "Epoch 141/512\n",
      "\u001b[1m11419/11419\u001b[0m \u001b[32m━━━━━━━━━━━━━━━━━━━━\u001b[0m\u001b[37m\u001b[0m \u001b[1m43s\u001b[0m 4ms/step - loss: 3.3110\n",
      "Epoch 142/512\n",
      "\u001b[1m11419/11419\u001b[0m \u001b[32m━━━━━━━━━━━━━━━━━━━━\u001b[0m\u001b[37m\u001b[0m \u001b[1m43s\u001b[0m 4ms/step - loss: 3.3115\n",
      "Epoch 143/512\n",
      "\u001b[1m11419/11419\u001b[0m \u001b[32m━━━━━━━━━━━━━━━━━━━━\u001b[0m\u001b[37m\u001b[0m \u001b[1m43s\u001b[0m 4ms/step - loss: 3.3158\n",
      "Epoch 144/512\n",
      "\u001b[1m11419/11419\u001b[0m \u001b[32m━━━━━━━━━━━━━━━━━━━━\u001b[0m\u001b[37m\u001b[0m \u001b[1m43s\u001b[0m 4ms/step - loss: 3.3108\n",
      "Epoch 145/512\n",
      "\u001b[1m11419/11419\u001b[0m \u001b[32m━━━━━━━━━━━━━━━━━━━━\u001b[0m\u001b[37m\u001b[0m \u001b[1m43s\u001b[0m 4ms/step - loss: 3.3130\n",
      "Epoch 146/512\n",
      "\u001b[1m11419/11419\u001b[0m \u001b[32m━━━━━━━━━━━━━━━━━━━━\u001b[0m\u001b[37m\u001b[0m \u001b[1m43s\u001b[0m 4ms/step - loss: 3.3052\n",
      "Epoch 147/512\n",
      "\u001b[1m11419/11419\u001b[0m \u001b[32m━━━━━━━━━━━━━━━━━━━━\u001b[0m\u001b[37m\u001b[0m \u001b[1m44s\u001b[0m 4ms/step - loss: 3.2970\n",
      "Epoch 148/512\n",
      "\u001b[1m11419/11419\u001b[0m \u001b[32m━━━━━━━━━━━━━━━━━━━━\u001b[0m\u001b[37m\u001b[0m \u001b[1m43s\u001b[0m 4ms/step - loss: 3.3087\n",
      "Epoch 149/512\n",
      "\u001b[1m11419/11419\u001b[0m \u001b[32m━━━━━━━━━━━━━━━━━━━━\u001b[0m\u001b[37m\u001b[0m \u001b[1m44s\u001b[0m 4ms/step - loss: 3.3081\n",
      "Epoch 150/512\n",
      "\u001b[1m11419/11419\u001b[0m \u001b[32m━━━━━━━━━━━━━━━━━━━━\u001b[0m\u001b[37m\u001b[0m \u001b[1m44s\u001b[0m 4ms/step - loss: 3.2978\n",
      "Epoch 151/512\n",
      "\u001b[1m11419/11419\u001b[0m \u001b[32m━━━━━━━━━━━━━━━━━━━━\u001b[0m\u001b[37m\u001b[0m \u001b[1m43s\u001b[0m 4ms/step - loss: 3.2961\n",
      "Epoch 152/512\n",
      "\u001b[1m11419/11419\u001b[0m \u001b[32m━━━━━━━━━━━━━━━━━━━━\u001b[0m\u001b[37m\u001b[0m \u001b[1m43s\u001b[0m 4ms/step - loss: 3.2896\n",
      "Epoch 153/512\n",
      "\u001b[1m11419/11419\u001b[0m \u001b[32m━━━━━━━━━━━━━━━━━━━━\u001b[0m\u001b[37m\u001b[0m \u001b[1m44s\u001b[0m 4ms/step - loss: 3.2829\n",
      "Epoch 154/512\n",
      "\u001b[1m11419/11419\u001b[0m \u001b[32m━━━━━━━━━━━━━━━━━━━━\u001b[0m\u001b[37m\u001b[0m \u001b[1m43s\u001b[0m 4ms/step - loss: 3.2946\n",
      "Epoch 155/512\n",
      "\u001b[1m11419/11419\u001b[0m \u001b[32m━━━━━━━━━━━━━━━━━━━━\u001b[0m\u001b[37m\u001b[0m \u001b[1m43s\u001b[0m 4ms/step - loss: 3.2725\n",
      "Epoch 156/512\n",
      "\u001b[1m11419/11419\u001b[0m \u001b[32m━━━━━━━━━━━━━━━━━━━━\u001b[0m\u001b[37m\u001b[0m \u001b[1m43s\u001b[0m 4ms/step - loss: 3.2709\n",
      "Epoch 157/512\n",
      "\u001b[1m11419/11419\u001b[0m \u001b[32m━━━━━━━━━━━━━━━━━━━━\u001b[0m\u001b[37m\u001b[0m \u001b[1m44s\u001b[0m 4ms/step - loss: 3.3019\n",
      "Epoch 158/512\n",
      "\u001b[1m11419/11419\u001b[0m \u001b[32m━━━━━━━━━━━━━━━━━━━━\u001b[0m\u001b[37m\u001b[0m \u001b[1m44s\u001b[0m 4ms/step - loss: 3.2951\n",
      "Epoch 159/512\n",
      "\u001b[1m11419/11419\u001b[0m \u001b[32m━━━━━━━━━━━━━━━━━━━━\u001b[0m\u001b[37m\u001b[0m \u001b[1m44s\u001b[0m 4ms/step - loss: 3.2889\n",
      "Epoch 160/512\n",
      "\u001b[1m11419/11419\u001b[0m \u001b[32m━━━━━━━━━━━━━━━━━━━━\u001b[0m\u001b[37m\u001b[0m \u001b[1m43s\u001b[0m 4ms/step - loss: 3.2712\n",
      "Epoch 161/512\n",
      "\u001b[1m11419/11419\u001b[0m \u001b[32m━━━━━━━━━━━━━━━━━━━━\u001b[0m\u001b[37m\u001b[0m \u001b[1m44s\u001b[0m 4ms/step - loss: 3.2740\n",
      "Epoch 162/512\n",
      "\u001b[1m11419/11419\u001b[0m \u001b[32m━━━━━━━━━━━━━━━━━━━━\u001b[0m\u001b[37m\u001b[0m \u001b[1m44s\u001b[0m 4ms/step - loss: 3.2781\n",
      "Epoch 163/512\n",
      "\u001b[1m11419/11419\u001b[0m \u001b[32m━━━━━━━━━━━━━━━━━━━━\u001b[0m\u001b[37m\u001b[0m \u001b[1m44s\u001b[0m 4ms/step - loss: 3.2801\n",
      "Epoch 164/512\n",
      "\u001b[1m11419/11419\u001b[0m \u001b[32m━━━━━━━━━━━━━━━━━━━━\u001b[0m\u001b[37m\u001b[0m \u001b[1m44s\u001b[0m 4ms/step - loss: 3.2721\n",
      "Epoch 165/512\n",
      "\u001b[1m11419/11419\u001b[0m \u001b[32m━━━━━━━━━━━━━━━━━━━━\u001b[0m\u001b[37m\u001b[0m \u001b[1m43s\u001b[0m 4ms/step - loss: 3.2726\n",
      "Epoch 166/512\n",
      "\u001b[1m11419/11419\u001b[0m \u001b[32m━━━━━━━━━━━━━━━━━━━━\u001b[0m\u001b[37m\u001b[0m \u001b[1m44s\u001b[0m 4ms/step - loss: 3.2794\n"
     ]
    }
   ],
   "source": [
    "model = keras.models.load_model(\"../saved_models/random_model_tablut_md.keras\")\n",
    "\n",
    "input_data = np.load(\"misc/positions_md.npy\")\n",
    "policy_outcomes = np.load(\"misc/moveprobs_md.npy\")\n",
    "value_outcomes = np.load(\"misc/outcomes_md.npy\")\n",
    "\n",
    "early_stopping = EarlyStopping(monitor='loss', mode='min', patience=5, restore_best_weights=True)\n",
    "\n",
    "model.fit(input_data,[policy_outcomes, value_outcomes], epochs=512,\n",
    "batch_size=16, callbacks=[early_stopping])\n",
    "model.save('../saved_models/supervised_model_tablut_md.keras')"
   ]
  }
 ],
 "metadata": {
  "kernelspec": {
   "display_name": "hex",
   "language": "python",
   "name": "python3"
  },
  "language_info": {
   "codemirror_mode": {
    "name": "ipython",
    "version": 3
   },
   "file_extension": ".py",
   "mimetype": "text/x-python",
   "name": "python",
   "nbconvert_exporter": "python",
   "pygments_lexer": "ipython3",
   "version": "3.10.6"
  }
 },
 "nbformat": 4,
 "nbformat_minor": 2
}
