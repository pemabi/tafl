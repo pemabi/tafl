{
 "cells": [
  {
   "cell_type": "code",
   "execution_count": 19,
   "metadata": {},
   "outputs": [],
   "source": [
    "import keras\n",
    "from tablut.game import Board\n",
    "import random\n",
    "import numpy as np\n",
    "from tqdm import tqdm\n",
    "from keras.models import Model\n",
    "from keras.layers import *\n",
    "import tensorflow as tf\n",
    "import matplotlib.pyplot as plt"
   ]
  },
  {
   "cell_type": "code",
   "execution_count": 8,
   "metadata": {},
   "outputs": [],
   "source": [
    "board = Board()\n",
    "pos_vec = board.to_network_input()"
   ]
  },
  {
   "cell_type": "code",
   "execution_count": 17,
   "metadata": {},
   "outputs": [],
   "source": [
    "inp = Input((252,))\n",
    "\n",
    "l1 = Dense(128, activation='relu')(inp)\n",
    "l2 = Dense(128, activation='relu')(l1)\n",
    "l3 = Dense(128, activation='relu')(l2)\n",
    "l4 = Dense(128, activation='relu')(l3)\n",
    "l5 = Dense(128, activation='relu')(l4)\n",
    "\n",
    "policyOut = Dense(1215, name='policyHead', activation='softmax')(l5)\n",
    "valueOut = Dense(1, activation='tanh', name='valueHead')(l5)\n",
    "\n",
    "bce = tf.keras.losses.CategoricalCrossentropy(from_logits=False)\n",
    "model = Model(inp, [policyOut,valueOut])\n",
    "model.compile(optimizer = 'SGD', loss={'valueHead' : 'mean_squared_error', 'policyHead' : bce})"
   ]
  },
  {
   "cell_type": "code",
   "execution_count": 18,
   "metadata": {},
   "outputs": [
    {
     "name": "stderr",
     "output_type": "stream",
     "text": [
      "  0%|          | 0/100 [00:00<?, ?it/s]"
     ]
    },
    {
     "name": "stdout",
     "output_type": "stream",
     "text": [
      "\u001b[1m1/1\u001b[0m \u001b[32m━━━━━━━━━━━━━━━━━━━━\u001b[0m\u001b[37m\u001b[0m \u001b[1m0s\u001b[0m 56ms/step\n"
     ]
    },
    {
     "name": "stderr",
     "output_type": "stream",
     "text": [
      "  0%|          | 0/100 [00:00<?, ?it/s]\n"
     ]
    },
    {
     "ename": "TypeError",
     "evalue": "'NoneType' object is not iterable",
     "output_type": "error",
     "traceback": [
      "\u001b[0;31m---------------------------------------------------------------------------\u001b[0m",
      "\u001b[0;31mTypeError\u001b[0m                                 Traceback (most recent call last)",
      "Cell \u001b[0;32mIn[18], line 55\u001b[0m\n\u001b[1;32m     53\u001b[0m m \u001b[38;5;241m=\u001b[39m moves[random\u001b[38;5;241m.\u001b[39mrandint(\u001b[38;5;241m0\u001b[39m, \u001b[38;5;28mlen\u001b[39m(moves)\u001b[38;5;241m-\u001b[39m\u001b[38;5;241m1\u001b[39m)]\n\u001b[1;32m     54\u001b[0m board\u001b[38;5;241m.\u001b[39mapply_move(m)\n\u001b[0;32m---> 55\u001b[0m winner \u001b[38;5;241m=\u001b[39m \u001b[43mnet_vs_rand\u001b[49m\u001b[43m(\u001b[49m\u001b[43mboard\u001b[49m\u001b[43m)\u001b[49m\n\u001b[1;32m     56\u001b[0m \u001b[38;5;28;01mif\u001b[39;00m(winner \u001b[38;5;241m==\u001b[39m Board\u001b[38;5;241m.\u001b[39mWHITE):\n\u001b[1;32m     57\u001b[0m     white_wins \u001b[38;5;241m+\u001b[39m\u001b[38;5;241m=\u001b[39m \u001b[38;5;241m1\u001b[39m\n",
      "Cell \u001b[0;32mIn[18], line 23\u001b[0m, in \u001b[0;36mnet_vs_rand\u001b[0;34m(board)\u001b[0m\n\u001b[1;32m     21\u001b[0m best_idx \u001b[38;5;241m=\u001b[39m np\u001b[38;5;241m.\u001b[39margmax(masked_output)\n\u001b[1;32m     22\u001b[0m sel_move \u001b[38;5;241m=\u001b[39m \u001b[38;5;28;01mNone\u001b[39;00m\n\u001b[0;32m---> 23\u001b[0m \u001b[38;5;28;01mfor\u001b[39;00m m \u001b[38;5;129;01min\u001b[39;00m board\u001b[38;5;241m.\u001b[39mgenerate_moves():\n\u001b[1;32m     24\u001b[0m     m_idx \u001b[38;5;241m=\u001b[39m board\u001b[38;5;241m.\u001b[39mget_network_output_index(m)\n\u001b[1;32m     25\u001b[0m     \u001b[38;5;28;01mif\u001b[39;00m(best_idx \u001b[38;5;241m==\u001b[39m m_idx):\n",
      "\u001b[0;31mTypeError\u001b[0m: 'NoneType' object is not iterable"
     ]
    }
   ],
   "source": [
    "def fst(a):\n",
    "    return a[0]\n",
    "\n",
    "# white == random player\n",
    "# black == network\n",
    "def net_vs_rand(board):\n",
    "    record = []\n",
    "    while(not fst(board.is_terminal())):\n",
    "        if(board.turn == Board.WHITE):\n",
    "            moves = board.generate_moves()\n",
    "            m = moves[random.randint(0, len(moves)-1)]\n",
    "            board.apply_move(m)\n",
    "            record.append(m)\n",
    "            continue\n",
    "        else:\n",
    "            q = model.predict(np.array([board.to_network_input()]))\n",
    "            masked_output = [0 for x in range(0,1216)]\n",
    "            for m in board.generate_moves():\n",
    "                m_idx = board.get_network_output_index(m)\n",
    "                masked_output[m_idx] = q[0][0][m_idx]\n",
    "            best_idx = np.argmax(masked_output)\n",
    "            sel_move = None\n",
    "            for m in board.generate_moves():\n",
    "                m_idx = board.get_network_output_index(m)\n",
    "                if(best_idx == m_idx):\n",
    "                    sel_move = m\n",
    "            board.apply_move(sel_move)\n",
    "            record.append(sel_move)\n",
    "            continue\n",
    "    terminal, winner = board.is_terminal()\n",
    "    return winner\n",
    "\n",
    "# white random player\n",
    "# black random player\n",
    "def rand_vs_rand(board):\n",
    "    while(not fst(board.is_terminal())):\n",
    "        moves = board.generate_moves()\n",
    "        m = moves[random.randint(0, len(moves)-1)]\n",
    "        board.apply_move(m)\n",
    "        continue\n",
    "    terminal, winner = board.is_terminal()\n",
    "    return winner\n",
    "\n",
    "\n",
    "white_wins = 0\n",
    "black_wins = 0\n",
    "draws = 0\n",
    "\n",
    "for i in tqdm(range(0,100)):\n",
    "    board = Board()\n",
    "    board.set_starting_position()\n",
    "    moves = board.generate_moves()\n",
    "    m = moves[random.randint(0, len(moves)-1)]\n",
    "    board.apply_move(m)\n",
    "    winner = net_vs_rand(board)\n",
    "    if(winner == Board.WHITE):\n",
    "        white_wins += 1\n",
    "    if(winner == Board.BLACK):\n",
    "        black_wins += 1\n",
    "    if(winner == 0):\n",
    "        draws += 1\n",
    "\n",
    "all = white_wins + black_wins + draws\n",
    "print(\"Rand Network vs Reinforcement: \"+str(white_wins/all) + \"/\"+str(black_wins/all) + \"/\"+str(draws/all))\n",
    "\n",
    "\n",
    "white_wins = 0\n",
    "black_wins = 0\n",
    "\n",
    "for i in tqdm(range(0,100)):\n",
    "    board = Board()\n",
    "    board.set_starting_position()\n",
    "    moves = board.generate_moves()\n",
    "    m = moves[random.randint(0, len(moves)-1)]\n",
    "    board.apply_move(m)\n",
    "    winner = rand_vs_rand(board)\n",
    "    if(winner == Board.WHITE):\n",
    "        white_wins += 1\n",
    "    if(winner == Board.BLACK):\n",
    "        black_wins += 1\n",
    "    if winner == 0:\n",
    "        draws += 1\n",
    "\n",
    "all = white_wins + black_wins\n",
    "print(\"Rand vs Rand Network: \"+str(white_wins/all) + \"/\"+str(black_wins/all)+ \"/\"+str(draws/all))"
   ]
  },
  {
   "cell_type": "code",
   "execution_count": 20,
   "metadata": {},
   "outputs": [],
   "source": [
    "def draw_board(board_state):\n",
    "    \"\"\"\n",
    "    Draw the game board based on the given board state.\n",
    "    \"\"\"\n",
    "    # Reshape the 1x81 list to a 9x9 list\n",
    "    board_state = np.reshape(board_state, (9, 9))\n",
    "\n",
    "    # Create a new plot\n",
    "    fig, ax = plt.subplots()\n",
    "\n",
    "    # Draw vertical lines\n",
    "    for i in range(1, 9):\n",
    "        plt.axvline(x=i, color='black', linewidth=2)\n",
    "\n",
    "    # Draw horizontal lines\n",
    "    for j in range(1, 9):\n",
    "        plt.axhline(y=j, color='black', linewidth=2)\n",
    "\n",
    "    # Draw the game board\n",
    "    for i in range(9):\n",
    "        for j in range(9):\n",
    "            # Add piece if exists in the board state\n",
    "            ax.text(i + 0.5, j + 0.5, str(i*9+j), color='grey', ha='center', va='center', fontsize=20, alpha=0.25)\n",
    "            piece = board_state[i][j]\n",
    "            if piece != 0:\n",
    "                if piece == 2:\n",
    "                    ax.text(i + 0.5, j + 0.5, 'B', color='black', ha='center', va='center', fontsize=20)\n",
    "                elif piece == 1:\n",
    "                    ax.text(i + 0.5, j + 0.5, 'W', color='red', ha='center', va='center', fontsize=20)\n",
    "                else:\n",
    "                    ax.text(i + 0.5, j + 0.5, 'K', color='orange', ha='center', va='center', fontsize=20)\n",
    "\n",
    "    # Set the aspect of the plot to equal\n",
    "    ax.set_aspect('equal')\n",
    "\n",
    "    # Set the limits of the plot\n",
    "    ax.set_xlim(0, 9)\n",
    "    ax.set_ylim(0, 9)\n",
    "\n",
    "    # Remove the axis\n",
    "    ax.axis('off')\n",
    "\n",
    "    # Show the plot\n",
    "    plt.show()"
   ]
  },
  {
   "cell_type": "code",
   "execution_count": 25,
   "metadata": {},
   "outputs": [],
   "source": [
    "board = Board()\n",
    "board.set_starting_position()"
   ]
  },
  {
   "cell_type": "code",
   "execution_count": 28,
   "metadata": {},
   "outputs": [],
   "source": [
    "board.generate_moves()"
   ]
  },
  {
   "cell_type": "code",
   "execution_count": 27,
   "metadata": {},
   "outputs": [
    {
     "name": "stdout",
     "output_type": "stream",
     "text": [
      "\u001b[1m1/1\u001b[0m \u001b[32m━━━━━━━━━━━━━━━━━━━━\u001b[0m\u001b[37m\u001b[0m \u001b[1m0s\u001b[0m 12ms/step\n"
     ]
    },
    {
     "ename": "TypeError",
     "evalue": "'NoneType' object is not iterable",
     "output_type": "error",
     "traceback": [
      "\u001b[0;31m---------------------------------------------------------------------------\u001b[0m",
      "\u001b[0;31mTypeError\u001b[0m                                 Traceback (most recent call last)",
      "Cell \u001b[0;32mIn[27], line 13\u001b[0m\n\u001b[1;32m     11\u001b[0m best_idx \u001b[38;5;241m=\u001b[39m np\u001b[38;5;241m.\u001b[39margmax(masked_output)\n\u001b[1;32m     12\u001b[0m sel_move \u001b[38;5;241m=\u001b[39m \u001b[38;5;28;01mNone\u001b[39;00m\n\u001b[0;32m---> 13\u001b[0m \u001b[38;5;28;01mfor\u001b[39;00m m \u001b[38;5;129;01min\u001b[39;00m board\u001b[38;5;241m.\u001b[39mgenerate_moves():\n\u001b[1;32m     14\u001b[0m     m_idx \u001b[38;5;241m=\u001b[39m board\u001b[38;5;241m.\u001b[39mget_network_output_index(m)\n\u001b[1;32m     15\u001b[0m     \u001b[38;5;28;01mif\u001b[39;00m(best_idx \u001b[38;5;241m==\u001b[39m m_idx):\n",
      "\u001b[0;31mTypeError\u001b[0m: 'NoneType' object is not iterable"
     ]
    }
   ],
   "source": [
    "if(board.turn == Board.WHITE):\n",
    "    moves = board.generate_moves()\n",
    "    m = moves[random.randint(0, len(moves)-1)]\n",
    "    board.apply_move(m)\n",
    "else:\n",
    "    q = model.predict(np.array([board.to_network_input()]))\n",
    "    masked_output = [0 for x in range(0,1216)]\n",
    "    for m in board.generate_moves():\n",
    "        m_idx = board.get_network_output_index(m)\n",
    "        masked_output[m_idx] = q[0][0][m_idx]\n",
    "    best_idx = np.argmax(masked_output)\n",
    "    sel_move = None\n",
    "    for m in board.generate_moves():\n",
    "        m_idx = board.get_network_output_index(m)\n",
    "        if(best_idx == m_idx):\n",
    "            sel_move = m\n",
    "    board.apply_move(sel_move)\n",
    "\n",
    "draw_board(board.board)"
   ]
  }
 ],
 "metadata": {
  "kernelspec": {
   "display_name": "hex",
   "language": "python",
   "name": "python3"
  },
  "language_info": {
   "codemirror_mode": {
    "name": "ipython",
    "version": 3
   },
   "file_extension": ".py",
   "mimetype": "text/x-python",
   "name": "python",
   "nbconvert_exporter": "python",
   "pygments_lexer": "ipython3",
   "version": "3.10.6"
  }
 },
 "nbformat": 4,
 "nbformat_minor": 2
}
