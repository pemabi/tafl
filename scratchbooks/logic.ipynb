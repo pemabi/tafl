{
 "cells": [
  {
   "cell_type": "markdown",
   "metadata": {},
   "source": [
    "http://aagenielsen.dk/tablut_summary.php\n",
    "\n",
    "http://aagenielsen.dk/historical_hnefatafl_rules.php"
   ]
  },
  {
   "cell_type": "markdown",
   "metadata": {},
   "source": [
    "![Tablut Setup](/Users/peterbitman/Desktop/Projects/tafl/tablut-layout.png)"
   ]
  },
  {
   "cell_type": "markdown",
   "metadata": {},
   "source": [
    "### Food for Thought:"
   ]
  },
  {
   "cell_type": "markdown",
   "metadata": {},
   "source": [
    "## Imports"
   ]
  },
  {
   "cell_type": "markdown",
   "metadata": {},
   "source": [
    "Let's use tablut first as a) recorded by Linnaeus which is a fun wrinkle, and b) it is 9x9 as opposed to 11x11 Copenhagen Hnetatafl\n",
    "\n",
    "With my initially considered encoding approach, input size is $3 \\times \\text{dimension}^2 + \\text{dimension}$ so:\n",
    "- 9x9 = 252\n",
    "- 11x11 = 374"
   ]
  },
  {
   "cell_type": "code",
   "execution_count": 106,
   "metadata": {},
   "outputs": [],
   "source": [
    "\n",
    "EMPTY = 0\n",
    "WHITE = 1\n",
    "BLACK = 2\n",
    "KING = 3\n",
    "CASTLE = 40\n",
    "\n",
    "turn = WHITE\n",
    "\n",
    "legal_moves = []\n",
    "\n",
    "board = [EMPTY]*81\n",
    "\n",
    "board = [EMPTY, EMPTY, EMPTY, BLACK, BLACK, BLACK, EMPTY, EMPTY, EMPTY,\n",
    "        EMPTY, EMPTY, EMPTY, EMPTY, BLACK, EMPTY, EMPTY, EMPTY, EMPTY,\n",
    "        EMPTY, EMPTY, EMPTY, EMPTY, WHITE, EMPTY, EMPTY, EMPTY, EMPTY,\n",
    "        BLACK, EMPTY, EMPTY, EMPTY, WHITE, EMPTY, EMPTY, EMPTY, BLACK,\n",
    "        BLACK, BLACK, WHITE, WHITE, KING, WHITE, WHITE, BLACK, BLACK,\n",
    "        BLACK, EMPTY, EMPTY, EMPTY, WHITE, EMPTY, EMPTY, EMPTY, BLACK,\n",
    "        EMPTY, EMPTY, EMPTY, EMPTY, WHITE, EMPTY, EMPTY, EMPTY, EMPTY,\n",
    "        EMPTY, EMPTY, EMPTY, EMPTY, BLACK, EMPTY, EMPTY, EMPTY, EMPTY,\n",
    "        EMPTY, EMPTY, EMPTY, BLACK, BLACK, BLACK, EMPTY, EMPTY, EMPTY]"
   ]
  },
  {
   "cell_type": "markdown",
   "metadata": {},
   "source": [
    "## Creating Move Output Index:\n",
    "\n",
    "Total number of possible moves:\n",
    "Non-Central Row/File Squares:\n",
    "- 8 non-central rows and files\n",
    "- 8*8 = 64 non-central squares\n",
    "- 8+8 = 16 possible moves from each square\n",
    "- 1024 possible moves\n",
    "Central Row/File Squares:\n",
    "- 16 central row/file squares\n",
    "- 8+3 = 11 possible moves from each square\n",
    "- 176 possible moves\n",
    "Castle Square:\n",
    "- 1 square\n",
    "- 4x4 = 16 possible moves\n",
    "\n",
    "Total Unique Moves:\n",
    "1024+176+16 = __1216__\n",
    "\n",
    "__Too many possible moves to do manually__\n",
    "\n",
    "Next task is to create a code snippet that will create this dictionary for me, in a reproducible way"
   ]
  },
  {
   "cell_type": "code",
   "execution_count": 155,
   "metadata": {},
   "outputs": [],
   "source": [
    "outputIndex = {}\n",
    "\n",
    "LEN_ROW = 9\n",
    "NUM_SQUARES = LEN_ROW**2\n",
    "CASTLE_SQUARE = int((NUM_SQUARES-1)/2)\n",
    "CENTRE_COL = [(LEN_ROW*x)+(LEN_ROW//2) for x in range(0,9)]\n",
    "CENTRE_ROW = [x for x in range(int(CASTLE_SQUARE-(LEN_ROW//2)), int(CASTLE_SQUARE+(LEN_ROW//2)+1))]\n",
    "\n",
    "if CASTLE_SQUARE != int(CASTLE_SQUARE):\n",
    "    print('invalid dimensions')\n",
    "\n",
    "index_value = 0\n",
    "\n",
    "def add_squares(start_square, first_square, last_square, step):\n",
    "    global index_value\n",
    "    for end_square in range(first_square, last_square, step):\n",
    "        if end_square != start_square:\n",
    "            outputIndex[f\"({start_square}, {end_square})\"] = index_value\n",
    "            index_value += 1\n",
    "\n",
    "for start_square in range(0, NUM_SQUARES):\n",
    "    # first squares in row/col of considered starting square\n",
    "    first_square_row = (start_square // LEN_ROW) * 9\n",
    "    first_square_col = start_square - first_square_row\n",
    "    # King Square\n",
    "    if start_square == CASTLE_SQUARE:\n",
    "        # add row moves\n",
    "        add_squares(start_square=start_square, first_square=first_square_row, last_square=first_square_row+LEN_ROW, step=1)\n",
    "\n",
    "        # add col moves\n",
    "        add_squares(start_square=start_square, first_square=first_square_col, last_square=NUM_SQUARES, step=LEN_ROW)\n",
    "\n",
    "    elif start_square in CENTRE_COL:\n",
    "        # add row moves\n",
    "        add_squares(start_square=start_square, first_square=first_square_row, last_square=first_square_row+LEN_ROW, step=1)\n",
    "        # add col moves\n",
    "        first_square_col = int(LEN_ROW//2) if start_square < CASTLE_SQUARE else CASTLE_SQUARE + LEN_ROW\n",
    "        last_square_col = CASTLE_SQUARE if start_square < CASTLE_SQUARE else NUM_SQUARES\n",
    "        add_squares(start_square=start_square, first_square=first_square_col, last_square=last_square_col, step=LEN_ROW)\n",
    "\n",
    "    elif start_square in CENTRE_ROW:\n",
    "        # add row moves\n",
    "        first_square_row = first_square_row if start_square < CASTLE_SQUARE else CASTLE_SQUARE+1\n",
    "        last_square_row = CASTLE_SQUARE if start_square < CASTLE_SQUARE else int(CASTLE_SQUARE + LEN_ROW//2 + 1)\n",
    "        add_squares(start_square=start_square, first_square=first_square_row, last_square=last_square_row, step=1)\n",
    "        # add col moves\n",
    "        add_squares(start_square=start_square, first_square=first_square_col, last_square=NUM_SQUARES, step=LEN_ROW)\n",
    "\n",
    "    else:\n",
    "        # add row moves\n",
    "        add_squares(start_square=start_square, first_square=first_square_row, last_square=first_square_row+LEN_ROW, step=1)\n",
    "        # add col moves\n",
    "        add_squares(start_square=start_square, first_square=first_square_col, last_square=NUM_SQUARES, step=LEN_ROW)"
   ]
  },
  {
   "cell_type": "code",
   "execution_count": 156,
   "metadata": {},
   "outputs": [
    {
     "data": {
      "text/plain": [
       "1216"
      ]
     },
     "execution_count": 156,
     "metadata": {},
     "output_type": "execute_result"
    }
   ],
   "source": [
    "len(outputIndex)"
   ]
  },
  {
   "cell_type": "markdown",
   "metadata": {},
   "source": [
    "## Applying Moves"
   ]
  },
  {
   "cell_type": "code",
   "execution_count": 73,
   "metadata": {},
   "outputs": [],
   "source": [
    "def applyMove(move):\n",
    "    from_square = move[0]\n",
    "    to_square = move[1]\n",
    "    board[to_square] = board[from_square]\n",
    "    board[from_square] = EMPTY\n",
    "    if (turn == WHITE):\n",
    "        turn = BLACK\n",
    "    else:\n",
    "        turn = WHITE\n",
    "    legal_moves = None"
   ]
  },
  {
   "cell_type": "markdown",
   "metadata": {},
   "source": [
    "## Generating Moves"
   ]
  },
  {
   "cell_type": "code",
   "execution_count": 125,
   "metadata": {},
   "outputs": [],
   "source": [
    "legal_moves = None\n",
    "\n",
    "turn = WHITE\n",
    "board = [EMPTY]*81\n",
    "board[38] = KING\n",
    "board[44] = WHITE"
   ]
  },
  {
   "cell_type": "code",
   "execution_count": 126,
   "metadata": {},
   "outputs": [],
   "source": [
    "def generate_moves():\n",
    "    \"\"\"\n",
    "    Collates and returns all legal moves for given board state.\n",
    "    \"\"\"\n",
    "\n",
    "    if legal_moves == None:\n",
    "        moves = []\n",
    "\n",
    "        def check_square_king(from_square, stop, step):\n",
    "            \"\"\"\n",
    "            Helper function that checks if square is a valid for king. Appends valid tuples to moves list.\n",
    "            \"\"\"\n",
    "            for i in range(from_square+step, stop, step):\n",
    "                if board[i] == EMPTY:\n",
    "                    moves.append((from_square, i))\n",
    "                else:\n",
    "                    break\n",
    "\n",
    "        def check_square(from_square, stop, step):\n",
    "            \"\"\"\n",
    "            Helper function that checks if square is a valid for attacker/defender. Appends valid tuples to moves list.\n",
    "            \"\"\"\n",
    "            for i in range(from_square+step, stop, step):\n",
    "                if board[i] == EMPTY:\n",
    "                    if i == CASTLE:\n",
    "                        continue\n",
    "                    else:\n",
    "                        moves.append((from_square, i))\n",
    "                else:\n",
    "                    break\n",
    "\n",
    "        # for every square, check to see if there is an ally occupying\n",
    "        for row_start_sq in range(0, 81, 9):\n",
    "            for col_start_sq in range(0, 9, 1):\n",
    "                from_square = row_start_sq + col_start_sq\n",
    "                # takes care of special cases for King piece. Also accounts for fact that KING != turn as all other pieces do\n",
    "                if board[from_square] == KING and turn == WHITE:\n",
    "                    # rows\n",
    "                    check_square_king(from_square=from_square, stop=from_square+9-col_start_sq, step=1)\n",
    "                    check_square_king(from_square=from_square, stop=row_start_sq-1, step=-1)\n",
    "                    # cols\n",
    "                    check_square_king(from_square=from_square, stop=81, step=9)\n",
    "                    check_square_king(from_square=from_square, stop=col_start_sq-1, step=-9)\n",
    "\n",
    "                if board[from_square] == turn:\n",
    "                    # rows\n",
    "                    check_square(from_square=from_square, stop=from_square+9-col_start_sq, step=1)\n",
    "                    check_square(from_square=from_square, stop=row_start_sq-1, step=-1)\n",
    "                    # cols\n",
    "                    check_square(from_square=from_square, stop=81, step=9)\n",
    "                    check_square(from_square=from_square, stop=col_start_sq-1, step=-9)\n",
    "        return moves"
   ]
  },
  {
   "cell_type": "code",
   "execution_count": 127,
   "metadata": {},
   "outputs": [
    {
     "data": {
      "text/plain": [
       "[(38, 39),\n",
       " (38, 40),\n",
       " (38, 41),\n",
       " (38, 42),\n",
       " (38, 43),\n",
       " (38, 37),\n",
       " (38, 36),\n",
       " (38, 47),\n",
       " (38, 56),\n",
       " (38, 65),\n",
       " (38, 74),\n",
       " (38, 29),\n",
       " (38, 20),\n",
       " (38, 11),\n",
       " (38, 2),\n",
       " (44, 43),\n",
       " (44, 42),\n",
       " (44, 41),\n",
       " (44, 39),\n",
       " (44, 53),\n",
       " (44, 62),\n",
       " (44, 71),\n",
       " (44, 80),\n",
       " (44, 35),\n",
       " (44, 26),\n",
       " (44, 17),\n",
       " (44, 8)]"
      ]
     },
     "execution_count": 127,
     "metadata": {},
     "output_type": "execute_result"
    }
   ],
   "source": [
    "generate_moves()"
   ]
  },
  {
   "cell_type": "code",
   "execution_count": 14,
   "metadata": {},
   "outputs": [
    {
     "data": {
      "text/plain": [
       "[0, 2, 4, 6, 8, 0]"
      ]
     },
     "execution_count": 14,
     "metadata": {},
     "output_type": "execute_result"
    }
   ],
   "source": [
    "nums = []\n",
    "\n",
    "for i in range(0, 10, 2):\n",
    "    if i%2==0:\n",
    "        nums.append(i)\n",
    "    elif i%3==0:\n",
    "        break\n",
    "\n",
    "for i in range(0, 10, 3):\n",
    "    if i%2==0:\n",
    "        nums.append(i)\n",
    "    elif i%3==0:\n",
    "        break\n",
    "\n",
    "nums"
   ]
  },
  {
   "cell_type": "code",
   "execution_count": 134,
   "metadata": {},
   "outputs": [
    {
     "data": {
      "text/plain": [
       "[1,\n",
       " 2,\n",
       " 3,\n",
       " 4,\n",
       " 5,\n",
       " 6,\n",
       " 7,\n",
       " 0,\n",
       " 9,\n",
       " 18,\n",
       " 27,\n",
       " 36,\n",
       " 45,\n",
       " 54,\n",
       " 63,\n",
       " 72,\n",
       " 8,\n",
       " 17,\n",
       " 26,\n",
       " 35,\n",
       " 44,\n",
       " 53,\n",
       " 62,\n",
       " 71,\n",
       " 80]"
      ]
     },
     "execution_count": 134,
     "metadata": {},
     "output_type": "execute_result"
    }
   ],
   "source": []
  },
  {
   "cell_type": "code",
   "execution_count": 137,
   "metadata": {},
   "outputs": [
    {
     "name": "stdout",
     "output_type": "stream",
     "text": [
      "(38, 36)\n",
      "(38, 74)\n",
      "(38, 2)\n",
      "(44, 53)\n",
      "(44, 62)\n",
      "(44, 71)\n",
      "(44, 80)\n",
      "(44, 26)\n",
      "(44, 17)\n",
      "(44, 8)\n"
     ]
    }
   ],
   "source": [
    "EDGES = {0, 1, 2, 3, 4, 5, 6, 7, 8, 9, 17, 18, 26, 27, 36, 44,\n",
    "             45, 53, 54, 62, 63, 71, 72, 73, 74, 75, 76, 77, 78, 79, 80}\n",
    "moves = [(38, 39),\n",
    " (38, 40),\n",
    " (38, 41),\n",
    " (38, 42),\n",
    " (38, 43),\n",
    " (38, 37),\n",
    " (38, 36),\n",
    " (38, 47),\n",
    " (38, 56),\n",
    " (38, 65),\n",
    " (38, 74),\n",
    " (38, 29),\n",
    " (38, 20),\n",
    " (38, 11),\n",
    " (38, 2),\n",
    " (44, 43),\n",
    " (44, 42),\n",
    " (44, 41),\n",
    " (44, 39),\n",
    " (44, 53),\n",
    " (44, 62),\n",
    " (44, 71),\n",
    " (44, 80),\n",
    " (44, 35),\n",
    " (44, 26),\n",
    " (44, 17),\n",
    " (44, 8)]\n",
    "\n",
    "for move in moves:\n",
    "    if move[1] in EDGES:\n",
    "        print(move)"
   ]
  },
  {
   "cell_type": "code",
   "execution_count": 149,
   "metadata": {},
   "outputs": [
    {
     "name": "stdout",
     "output_type": "stream",
     "text": [
      "bye\n"
     ]
    }
   ],
   "source": [
    "y = 2\n",
    "x_set = {1} if y == 1 else {2, 3}\n",
    "\n",
    "def check_x(x):\n",
    "    if x in x_set:\n",
    "        print('hi')\n",
    "    else:\n",
    "        print('bye')\n",
    "\n",
    "check_x(x=0)"
   ]
  },
  {
   "cell_type": "code",
   "execution_count": 150,
   "metadata": {},
   "outputs": [
    {
     "name": "stdout",
     "output_type": "stream",
     "text": [
      "2\n",
      "5\n",
      "6\n",
      "7\n",
      "8\n"
     ]
    }
   ],
   "source": [
    "for i in [1, 4, 5, 6, 7]:\n",
    "    print(i+1)"
   ]
  },
  {
   "cell_type": "code",
   "execution_count": 154,
   "metadata": {},
   "outputs": [
    {
     "data": {
      "text/plain": [
       "251"
      ]
     },
     "execution_count": 154,
     "metadata": {},
     "output_type": "execute_result"
    }
   ],
   "source": [
    "81*3+9-1"
   ]
  },
  {
   "cell_type": "code",
   "execution_count": 152,
   "metadata": {},
   "outputs": [],
   "source": [
    "from keras.models import Model\n",
    "from keras.layers import *\n",
    "import tensorflow as tf"
   ]
  },
  {
   "cell_type": "code",
   "execution_count": 157,
   "metadata": {},
   "outputs": [],
   "source": [
    "inp = Input((251,))\n",
    "\n",
    "l1 = Dense(128, activation='relu')(inp)\n",
    "l2 = Dense(128, activation='relu')(l1)\n",
    "l3 = Dense(128, activation='relu')(l2)\n",
    "l4 = Dense(128, activation='relu')(l3)\n",
    "l5 = Dense(128, activation='relu')(l4)\n",
    "\n",
    "policyOut = Dense(1215, name='policyHead', activation='softmax')(l5)\n",
    "valueOut = Dense(1, activation='tanh', name='valueHead')(l5)\n",
    "\n",
    "bce = tf.keras.losses.CategoricalCrossentropy(from_logits=False)\n",
    "model = Model(inp, [policyOut,valueOut])\n",
    "model.compile(optimizer = 'SGD', loss={'valueHead' : 'mean_squared_error', 'policyHead' : bce})\n",
    "\n",
    "model.save('random_model.keras')"
   ]
  },
  {
   "cell_type": "code",
   "execution_count": 1,
   "metadata": {},
   "outputs": [],
   "source": [
    "import time"
   ]
  },
  {
   "cell_type": "code",
   "execution_count": 10,
   "metadata": {},
   "outputs": [],
   "source": [
    "def costly_comp():\n",
    "    time.sleep(5)\n",
    "    return 'that was tough'\n",
    "\n",
    "class Worker():\n",
    "    motto = costly_comp()\n",
    "\n",
    "    def __init__(self):\n",
    "        self.excited = self.motto + '!'"
   ]
  },
  {
   "cell_type": "code",
   "execution_count": 11,
   "metadata": {},
   "outputs": [],
   "source": [
    "bob = Worker()"
   ]
  },
  {
   "cell_type": "code",
   "execution_count": 14,
   "metadata": {},
   "outputs": [
    {
     "data": {
      "text/plain": [
       "'that was tough!'"
      ]
     },
     "execution_count": 14,
     "metadata": {},
     "output_type": "execute_result"
    }
   ],
   "source": [
    "bob.excited"
   ]
  },
  {
   "cell_type": "code",
   "execution_count": 5,
   "metadata": {},
   "outputs": [
    {
     "data": {
      "text/plain": [
       "'that was tough'"
      ]
     },
     "execution_count": 5,
     "metadata": {},
     "output_type": "execute_result"
    }
   ],
   "source": [
    "jeff = Worker()\n",
    "jeff.motto"
   ]
  },
  {
   "cell_type": "code",
   "execution_count": 26,
   "metadata": {},
   "outputs": [],
   "source": [
    "class Log():\n",
    "    def __init__(self):\n",
    "        self.log = [1, 2]\n",
    "\n",
    "    def update_log(self):\n",
    "        if len(self.log) < 4:\n",
    "            self.log.append(0)\n",
    "        else:\n",
    "            self.log = self.log[1:]\n",
    "            self.log.append(1)\n",
    "\n",
    "l = Log()"
   ]
  },
  {
   "cell_type": "code",
   "execution_count": 33,
   "metadata": {},
   "outputs": [
    {
     "data": {
      "text/plain": [
       "[1, 1, 1, 1]"
      ]
     },
     "execution_count": 33,
     "metadata": {},
     "output_type": "execute_result"
    }
   ],
   "source": [
    "l.update_log()\n",
    "l.log"
   ]
  },
  {
   "cell_type": "code",
   "execution_count": 34,
   "metadata": {},
   "outputs": [
    {
     "data": {
      "text/plain": [
       "4"
      ]
     },
     "execution_count": 34,
     "metadata": {},
     "output_type": "execute_result"
    }
   ],
   "source": [
    "len(l.log)"
   ]
  }
 ],
 "metadata": {
  "kernelspec": {
   "display_name": "hex",
   "language": "python",
   "name": "python3"
  },
  "language_info": {
   "codemirror_mode": {
    "name": "ipython",
    "version": 3
   },
   "file_extension": ".py",
   "mimetype": "text/x-python",
   "name": "python",
   "nbconvert_exporter": "python",
   "pygments_lexer": "ipython3",
   "version": "3.10.6"
  }
 },
 "nbformat": 4,
 "nbformat_minor": 2
}
